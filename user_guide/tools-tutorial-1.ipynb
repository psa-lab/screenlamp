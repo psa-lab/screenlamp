{
 "cells": [
  {
   "cell_type": "markdown",
   "metadata": {},
   "source": [
    "# Screenlamp Toolkit Tutorial"
   ]
  },
  {
   "cell_type": "markdown",
   "metadata": {},
   "source": [
    "This tutorial explains how the individual screenlamp tools (located in the [screenlamp/tools](https://github.com/rasbt/screenlamp/tree/master/tools) subdirectory) work in the context of a small virtual screening example. \n",
    "\n",
    "The workflow we are going to use is similar to the [Pipeline Tutorial](pipeline-tutorial-1), which uses a pre-constructed, automated virtual pipeline based using the tools explained in this tutorial. While the [Pipeline Tutorial](pipeline-tutorial-1) provides a high-level overview and a more convenient, pre-constructed pipeline, this tool aims to explain the building blocks behind it so that users can understand and learn how to construct their own pipelines and/or modify the existing pipeline presented in the [Pipeline Tutorial](pipeline-tutorial-1).\n",
    "\n",
    "To explain the main steps in a typical filtering pipeline using screenlamp, this tutorial will work through the following individual steps performed by the pipeline in the [Pipeline Tutorial](pipeline-tutorial-1) incrementally:\n",
    "\n",
    "![](images/tools-tutorial-1/pipeline-overview.jpg)\n",
    "\n",
    "\n",
    "(A higher-resolution PDF version of this flowchart is available [here](https://github.com/rasbt/screenlamp/blob/master/docs/sources/images/automated-pipeline-flowchart.pdf).)"
   ]
  },
  {
   "cell_type": "markdown",
   "metadata": {},
   "source": [
    "## Obtaining and Preparing the Dataset\n",
    "\n",
    "\n",
    "### MOL2 Input Files\n",
    "\n",
    "The tools presented in this tutorial are compatible with MOL2 files of arbitrary size. However, to minimize the computation time for illustration throughout this tutorial, we are only going to use a small subset of molecules.\n",
    "\n",
    "A typical use case for these would be the screening of all ~18,000,000 *Drug-Like* molecules from [ZINC](http://zinc.docking.org), which is available in MOL2 format on ZINC [here](http://zinc.docking.org/subsets/drug-like). Please note that screenlamp supports both Tripos MOL2 (`*.mol2`) files and gzipped Tripos MOL2 files (`*.mol2.gz`) out of the box. Thus, if your input dataset is in gzipped format, you can use it right away without having to make any adjustments or decompressing it. However, please note that the decompressing and compressing operations that are performed when working with gzipped files have an additional toll on computational performance.\n",
    "\n",
    "With kind permission from John Irwin and the ZINC team, we are using a random subset of 70,000 small molecules that we prepared for this tutorial. This subset from ZINC is split into 7 multi-MOL2 file with 10,000 molecules each: `partition_mol2_1.mol2` to `partition_mol2_7.mol2`. \n",
    "\n",
    "For this tutorial, please download the dataset by clicking the following link and unzip it on your machine that you are using for the virtual screening run: [https://sebastianraschka.com/datasets/screenlamp/pipeline-tutorial_1/partition_1-7.zip](https://sebastianraschka.com/datasets/screenlamp/pipeline-tutorial_1/partition_1-7.zip)\n",
    "\n",
    "\n",
    "### Datatable for Prefiltering\n",
    "\n",
    "For this particular tutorial, you'll also need a data table containing general information about these molecules. Although the partitions you downloaded above are only a small, modified subset of the [ZINC](http://zinc.docking.org) drug-like molecules, we could use the full ~18,000,000 molecule Drug-like table available for download at [http://zinc.docking.org/subsets/drug-like](http://zinc.docking.org/subsets/drug-like). To download the tab-separated table, click the [Properties](http://zinc.docking.org/db/bysubset/3/3_prop.xls) link on the [ZINC Drug-like](http://zinc.docking.org/subsets/drug-like) page. \n",
    "\n",
    "However, Please note that the size of the data table is about ~1.8 Gb, and thus, the download may take a while depending on your internet connection. Alternatively, we recommend using a smaller data table containing only ~170,000 molecules; to download this table, please use the following link: [https://sebastianraschka.com/datasets/screenlamp/pipeline-tutorial_1/small_table_p1-7.txt](https://sebastianraschka.com/datasets/screenlamp/pipeline-tutorial_1/small_table_p1-7.txt)\n",
    "\n",
    "\n",
    "### Query Molecule\n",
    "\n",
    "The third data file you'll need for ligand-based virtual screening is the query molecule. For this tutorial, please download the following multi-conformer MOL2 file: [https://sebastianraschka.com/datasets/screenlamp/pipeline-tutorial_1/3kpzs_query.mol2](https://sebastianraschka.com/datasets/screenlamp/pipeline-tutorial_1/3kpzs_query.mol2)"
   ]
  },
  {
   "cell_type": "markdown",
   "metadata": {},
   "source": [
    "---\n",
    "\n",
    "**Important Note**\n",
    "\n",
    "All code in this tutorial is executed using a Python 3.6 interpreter. The code has not been tested in Python 2.7.\n",
    "\n",
    "---"
   ]
  },
  {
   "cell_type": "markdown",
   "metadata": {},
   "source": [
    "## Data Storage and Project Layout"
   ]
  },
  {
   "cell_type": "markdown",
   "metadata": {},
   "source": [
    "After downloading the files described in the previous subsection, create a new directory called `tk-tutorial_data` to store these files. Before you continue with the tutorial, please make sure that the `tk-tutorial_data` directory contains the following files and adheres to the following directory structure:\n",
    "\n",
    "![](../images/toolkit-tutorial/dataset-overview.png)"
   ]
  },
  {
   "cell_type": "markdown",
   "metadata": {},
   "source": [
    "Next, we are going to create a new directory, `tutorial-results`, to store the results we are going to generate in this tutorial:"
   ]
  },
  {
   "cell_type": "code",
   "execution_count": 6,
   "metadata": {
    "collapsed": true
   },
   "outputs": [],
   "source": [
    "! mkdir tutorial-results"
   ]
  },
  {
   "cell_type": "markdown",
   "metadata": {},
   "source": [
    "<div class=\"alert alert-block alert-info\"> &#9888; Throughout this tutorial, the '!' command denotes a new command line terminal prompt (for example, bash shell).</div>"
   ]
  },
  {
   "cell_type": "markdown",
   "metadata": {},
   "source": [
    "<div class=\"alert alert-block alert-info\"> &#9888; This tutorial assumes that the screenlamp tools are available from a directory called 'tools', but you can store the screenlamp tools in any directory you like as long as you replace 'tools' with the correct path to this directory.</div>\n",
    "\n",
    "Before we start exploring the tools contained in screenlamp's `tools` folder, let's start with a simple script that we are going to use throughout this tutorial to count the number of structures in a mol2 file or directory containing mol2 files.\n",
    "\n",
    "Using the `count_mol2.py` script, we can now count the number of structures in each mol2 file in our input directory like so:"
   ]
  },
  {
   "cell_type": "code",
   "execution_count": 2,
   "metadata": {},
   "outputs": [
    {
     "name": "stdout",
     "output_type": "stream",
     "text": [
      "partition_1.mol2 : 10000\n",
      "partition_2.mol2 : 10000\n",
      "partition_3.mol2 : 10000\n",
      "partition_4.mol2 : 10000\n",
      "partition_5.mol2 : 10000\n",
      "partition_6.mol2 : 10000\n",
      "partition_7.mol2 : 10000\n",
      "Total : 70000\n"
     ]
    }
   ],
   "source": [
    "! python tools/count_mol2.py -i tk-tutorial_data/partition_1-7/"
   ]
  },
  {
   "cell_type": "markdown",
   "metadata": {},
   "source": [
    "As we can see, each of the 7 partitions in our dataset contains 10,000 molecules; we will be working with 70,000 structures in total."
   ]
  },
  {
   "cell_type": "markdown",
   "metadata": {},
   "source": [
    "## General Blacklist & Whitelist Filtering"
   ]
  },
  {
   "cell_type": "markdown",
   "metadata": {},
   "source": [
    "This section provides a brief introduction to the general concept of how the filtering of structures is performed within screenlamp. The general workflow consists of two step\n",
    "\n",
    "1. Creating an \"ID file\" (more about this later)\n",
    "2. Use the \"ID file\" to select the corresponding 3D-structures from MOL2 files\n",
    "\n",
    "Furthermore, there are 2 kinds of filtering procedures. Via whitelist-filtering, we select all molecules that are **listed in** the ID file. Vice versa, blacklist-filtering is used to select all molecules that are **not listed in** the ID file."
   ]
  },
  {
   "cell_type": "markdown",
   "metadata": {},
   "source": [
    "### Generating ID Files from Molecules"
   ]
  },
  {
   "cell_type": "markdown",
   "metadata": {},
   "source": [
    "First, we are going to generate an ID file of all structures in the mol2 files of the 7 partitions. \n",
    "\n",
    "<div class=\"alert alert-block alert-info\"> &#9888; \n",
    "In the context of this tutorial, an \"ID file\" is a plaintext file that contains the molecule identifiers fetched from the mol2 files.\n",
    "</div>\n",
    "\n",
    "We can create such an ID file using the `mol2_to_id.py` screenlamp script as shown below:"
   ]
  },
  {
   "cell_type": "code",
   "execution_count": 1,
   "metadata": {},
   "outputs": [
    {
     "name": "stdout",
     "output_type": "stream",
     "text": [
      "Processing partition_1.mol2 | scanned 10000 molecules | 9992 mol/sec\n",
      "Processing partition_2.mol2 | scanned 10000 molecules | 13691 mol/sec\n",
      "Processing partition_3.mol2 | scanned 10000 molecules | 17576 mol/sec\n",
      "Processing partition_4.mol2 | scanned 10000 molecules | 15460 mol/sec\n",
      "Processing partition_5.mol2 | scanned 10000 molecules | 13929 mol/sec\n",
      "Processing partition_6.mol2 | scanned 10000 molecules | 14212 mol/sec\n",
      "Processing partition_7.mol2 | scanned 10000 molecules | 14279 mol/sec\n",
      "Finished\n"
     ]
    }
   ],
   "source": [
    "! python tools/mol2_to_id.py \\\n",
    "  --input tk-tutorial_data/partition_1-7/ \\\n",
    "  --output tutorial-results/all-mol2ids.txt"
   ]
  },
  {
   "cell_type": "markdown",
   "metadata": {},
   "source": [
    "To check that the creation of the ID file was successful and to see how it looks like, we will use the Unix/Linux `head` command line tool to display the first 10 rows of the newly created ID file:"
   ]
  },
  {
   "cell_type": "code",
   "execution_count": 4,
   "metadata": {},
   "outputs": [
    {
     "name": "stdout",
     "output_type": "stream",
     "text": [
      "ZINC57271411\r\n",
      "ZINC50764925\r\n",
      "ZINC65255333\r\n",
      "ZINC06394508\r\n",
      "ZINC65292537\r\n",
      "ZINC65375610\r\n",
      "ZINC31820077\r\n",
      "ZINC65395084\r\n",
      "ZINC00205726\r\n",
      "ZINC01458151\r\n"
     ]
    }
   ],
   "source": [
    "! head tutorial-results/all-mol2ids.txt"
   ]
  },
  {
   "cell_type": "markdown",
   "metadata": {},
   "source": [
    "To illustrate the concept of whitelist and blacklist filtering in the following sections, let us now create a small ID list file, we name it `5-mol2ids.txt`, that contains 5 IDs only, using the `echo` command in a Unix/Linux terminal:"
   ]
  },
  {
   "cell_type": "code",
   "execution_count": 5,
   "metadata": {
    "collapsed": true
   },
   "outputs": [],
   "source": [
    "! echo \"\\\n",
    "ZINC65255333\\n\\\n",
    "ZINC06394508\\n\\\n",
    "ZINC65292537\\n\\\n",
    "ZINC65375610\\n\\\n",
    "ZINC31820077\" > tutorial-results/5-mol2ids.txt"
   ]
  },
  {
   "cell_type": "markdown",
   "metadata": {},
   "source": [
    "The execution of the preceeding command will create a text file that looks as follows:\n",
    "    \n",
    "![](images/tools-tutorial-1/5-mol2ids.png)"
   ]
  },
  {
   "cell_type": "markdown",
   "metadata": {},
   "source": [
    "### Whitelist Filtering"
   ]
  },
  {
   "cell_type": "markdown",
   "metadata": {},
   "source": [
    "Now, using the script `id_to_mol2.py`, we can filter a directory of mol2 files for molecules that are listed in an ID file using the `--whitefilter True` option. Executing the following command will look for the structures corresponding to the five molecule IDs included in the `5-mol2ids.txt` that we created in the previous section, and write the corresponding structure files to a new directory that we will call `whitelist_example`:"
   ]
  },
  {
   "cell_type": "code",
   "execution_count": 6,
   "metadata": {},
   "outputs": [
    {
     "name": "stdout",
     "output_type": "stream",
     "text": [
      "Processing partition_1.mol2 | scanned 10000 molecules | 15319 mol/sec\n",
      "Processing partition_2.mol2 | scanned 10000 molecules | 14400 mol/sec\n",
      "Processing partition_3.mol2 | scanned 10000 molecules | 14980 mol/sec\n",
      "Processing partition_4.mol2 | scanned 10000 molecules | 14893 mol/sec\n",
      "Processing partition_5.mol2 | scanned 10000 molecules | 14170 mol/sec\n",
      "Processing partition_6.mol2 | scanned 10000 molecules | 12873 mol/sec\n",
      "Processing partition_7.mol2 | scanned 10000 molecules | 12457 mol/sec\n",
      "Finished\n"
     ]
    }
   ],
   "source": [
    "! python tools/id_to_mol2.py \\\n",
    "  --input tk-tutorial_data/partition_1-7/ \\\n",
    "  --output tutorial-results/whitelist-example \\\n",
    "  --id_file tutorial-results/5-mol2ids.txt \\\n",
    "  --whitelist True"
   ]
  },
  {
   "cell_type": "markdown",
   "metadata": {},
   "source": [
    "The output directory, `tutorial-results/whitelist-example`, should now contain only mol2 structures that are labeled with IDs contained in the `5-mol2ids.txt` text file.\n",
    "\n",
    "Please note that `id_to_mol2.py` creates a new file for each mol2 file it scanned; however, the creation of such a file does not imply that structures were found for this particular partition via whitelist filtering and could remain empty. For example, the five structure IDs in the `5-mol2ids.txt` all refer to structures from `partition_1` as we can check by running the already familiar `count_mol2.py` script:"
   ]
  },
  {
   "cell_type": "code",
   "execution_count": 18,
   "metadata": {},
   "outputs": [
    {
     "name": "stdout",
     "output_type": "stream",
     "text": [
      "partition_1.mol2 : 5\n",
      "partition_2.mol2 : 0\n",
      "partition_3.mol2 : 0\n",
      "partition_4.mol2 : 0\n",
      "partition_5.mol2 : 0\n",
      "partition_6.mol2 : 0\n",
      "partition_7.mol2 : 0\n",
      "Total : 5\n"
     ]
    }
   ],
   "source": [
    "! python tools/count_mol2.py \\\n",
    "  --input tutorial-results/whitelist-example"
   ]
  },
  {
   "cell_type": "markdown",
   "metadata": {},
   "source": [
    "### Blacklist Filtering"
   ]
  },
  {
   "cell_type": "markdown",
   "metadata": {},
   "source": [
    "Similar to the whitelisting example in the previous section, we can use a ID file for blacklist filtering. Blacklist filtering means that all molecules that are ***not*** listed in an ID file will be selected. In order to perform blacklist filtering, we use the setting `--whitelist False` as shown below:"
   ]
  },
  {
   "cell_type": "code",
   "execution_count": 19,
   "metadata": {},
   "outputs": [
    {
     "name": "stdout",
     "output_type": "stream",
     "text": [
      "Processing partition_1.mol2 | scanned 10000 molecules | 12772 mol/sec\n",
      "Processing partition_2.mol2 | scanned 10000 molecules | 8715 mol/sec\n",
      "Processing partition_3.mol2 | scanned 10000 molecules | 9105 mol/sec\n",
      "Processing partition_4.mol2 | scanned 10000 molecules | 13333 mol/sec\n",
      "Processing partition_5.mol2 | scanned 10000 molecules | 9869 mol/sec\n",
      "Processing partition_6.mol2 | scanned 10000 molecules | 12444 mol/sec\n",
      "Processing partition_7.mol2 | scanned 10000 molecules | 12276 mol/sec\n",
      "Finished\n"
     ]
    }
   ],
   "source": [
    "! python tools/id_to_mol2.py \\\n",
    "  --input tk-tutorial_data/partition_1-7/ \\\n",
    "  --output tutorial-results/blacklist-example \\\n",
    "  --id_file tutorial-results/5-mol2ids.txt \\\n",
    "  --whitelist False"
   ]
  },
  {
   "cell_type": "markdown",
   "metadata": {},
   "source": [
    "This time, we expect 69995 structures to be obtained after the filtering, since we scanned 70,000 molecules and had 5 molecules on our ID blacklist:"
   ]
  },
  {
   "cell_type": "code",
   "execution_count": 20,
   "metadata": {},
   "outputs": [
    {
     "name": "stdout",
     "output_type": "stream",
     "text": [
      "partition_1.mol2 : 9995\n",
      "partition_2.mol2 : 10000\n",
      "partition_3.mol2 : 10000\n",
      "partition_4.mol2 : 10000\n",
      "partition_5.mol2 : 10000\n",
      "partition_6.mol2 : 10000\n",
      "partition_7.mol2 : 10000\n",
      "Total : 69995\n"
     ]
    }
   ],
   "source": [
    "! python tools/count_mol2.py \\\n",
    "  --input tutorial-results/blacklist-example"
   ]
  },
  {
   "cell_type": "markdown",
   "metadata": {},
   "source": [
    "## Step 1 -- Filtering via Features from Data Tables"
   ]
  },
  {
   "cell_type": "markdown",
   "metadata": {},
   "source": [
    "In this section, we will apply the first filtering step, which constitutes step 1 in the pipeline overview:\n",
    "\n",
    "![](images/tools-tutorial-1/pipe-step-1.jpg)\n",
    "\n",
    "Filtering via screenlamp is typically done in 2 steps:\n",
    "\n",
    "- Step 1: Create an ID file containing the names of the molecules of interest.\n",
    "- Step 2: Obtain the structures of molecules of interest, using the ID file, from MOL2 files.\n",
    "\n",
    "In this filtering step, we are going to create an ID file of molecules of interest from a pre-existing data table, for instance, the \"properties\" files available on [ZINC](http://zinc.docking.org/subsets/drug-like). For this example, we are going to use the `small_table_p1-7.txt` subset that we downloaded earlier (see [\"Obtaining and Preparing the Dataset\"](#Obtaining-and-Preparing-the-Dataset)), since the whole data table of drug like molecules is ~2 Gb in size, and thus it may take a long time to download it on machines with a low-bandwidth internet connection. However, in case you have already downloaded the drug-like properties file (3_prop.xls) from ZINC, please feel free to use it instead. \n",
    "\n",
    "<div class=\"alert alert-block alert-info\"> &#9888; Note that while 3_prop.xls has a file ending that is typical for Microsoft Excel, it is not an Excel file but a plain text file with tab-separated columns.</div>\n",
    "\n",
    "To get a brief impression of the file contents, we use the `head` tool to display the first ten entries:"
   ]
  },
  {
   "cell_type": "code",
   "execution_count": 21,
   "metadata": {},
   "outputs": [
    {
     "name": "stdout",
     "output_type": "stream",
     "text": [
      "ZINC_ID\tMWT\tLogP\tDesolv_apolar\tDesolv_polar\tHBD\tHBA\ttPSA\tCharge\tNRB\tSMILES\r\n",
      "ZINC00000010\t217.2\t1.42\t5.57\t-41.98\t0\t4\t66\t-1\t2\tC[C@@]1(C(=O)C=C(O1)C(=O)[O-])c2ccccc2\r\n",
      "ZINC00000012\t289.356\t1.28\t4.89\t-24.55\t2\t4\t66\t0\t5\tc1ccc(cc1)C(c2ccccc2)[S@](=O)CC(=O)NO\r\n",
      "ZINC00000017\t281.337\t1.33\t3.06\t-23.33\t2\t6\t87\t0\t4\tCCC[S@](=O)c1ccc2c(c1)[nH]/c(=N\\C(=O)OC)/[nH]2\r\n",
      "ZINC00000017\t281.337\t1.33\t3.07\t-19.2\t2\t6\t87\t0\t4\tCCC[S@](=O)c1ccc2c(c1)[nH]/c(=N/C(=O)OC)/[nH]2\r\n",
      "ZINC00000018\t212.31799999999998\t2.0\t5.87\t-8.2\t1\t3\t32\t0\t4\tCC(C)C[C@@H]1C(=O)N(C(=S)N1)CC=C\r\n",
      "ZINC00000021\t288.411\t3.85\t4.02\t-40.52\t1\t3\t30\t1\t6\tCCC(=O)O[C@]1(CC[NH+](C[C@@H]1CC=C)C)c2ccccc2\r\n",
      "ZINC00000022\t218.27599999999998\t3.21\t0.47\t-48.57\t1\t3\t52\t-1\t5\tC[C@@H](c1ccc(cc1)NCC(=C)C)C(=O)[O-]\r\n",
      "ZINC00000025\t251.35299999999998\t3.6\t2.4\t-41.56\t2\t2\t40\t1\t5\tC[C@H](Cc1ccccc1)[NH2+][C@@H](C#N)c2ccccc2\r\n",
      "ZINC00000030\t297.422\t2.94\t0.89\t-37.97\t3\t3\t47\t1\t6\tC[C@@H](CC(c1ccccc1)(c2ccccc2)C(=O)N)[NH+](C)C\r\n"
     ]
    }
   ],
   "source": [
    "! head tk-tutorial_data/small_table_p1-7.txt"
   ]
  },
  {
   "cell_type": "markdown",
   "metadata": {},
   "source": [
    "Since it can sometimes be hard to read tab-separated tables as regular text output, the screenshot below shows the same table excerpt opened in a spreadsheet program such as LibreOffice Calc or Microsoft Excel:\n",
    "\n",
    "\n",
    "![](images/tools-tutorial-1/zincdata-spreadsheat.png)"
   ]
  },
  {
   "cell_type": "markdown",
   "metadata": {},
   "source": [
    "Using the `datatable_to_id.py` script, we can select only those molecule IDs (here: stored in the ZINC_ID column) that match certain criteria, which we can flexibly define based on the column data in this table. For example, we can select only those molecules that have at most 7 rotatable bonds and have a molecular weight of at least 200 g/mol using the selection string `\"(NRB <= 7) & (MWT >= 200)\"` as follows:"
   ]
  },
  {
   "cell_type": "code",
   "execution_count": 9,
   "metadata": {},
   "outputs": [
    {
     "name": "stdout",
     "output_type": "stream",
     "text": [
      "Using columns: ['ZINC_ID', 'NRB', 'MWT']\n",
      "Using selection: (chunk.NRB <= 7) & (chunk.MWT >= 200)\n",
      "Processed 169984 rows | 351943 rows/sec\n",
      "Selected: 162622\n"
     ]
    }
   ],
   "source": [
    "! python tools/datatable_to_id.py \\\n",
    "  --input tk-tutorial_data/small_table_p1-7.txt \\\n",
    "  --output tutorial-results/01_selected_mol2s.txt \\\n",
    "  --id_column \"ZINC_ID\" \\\n",
    "  --selection \"(NRB <= 7) & (MWT >= 200)\""
   ]
  },
  {
   "cell_type": "markdown",
   "metadata": {},
   "source": [
    "The selection syntax is quite simple: Parentheses must surround each criterion, and multiple criteria can be chained together using the logical AND symbol `'&'`. For example, to add a third criterion to the selection string to exclude larger molecules that are heavier than 400 g/mol, the selection string becomes `\"(NRB <= 7) & (MWT >= 200) & (MWT <= 400)\"`.\n",
    "\n",
    "The following relational operators are supported in the selection string:\n",
    "\n",
    "- `!=` : not equal to\n",
    "- `==` : equal to\n",
    "- `<`  : less than\n",
    "- `>`  : greater than\n",
    "- `>=` : equal to or greater than\n",
    "- `<=` : equal to or greater than\n",
    "\n",
    "\n",
    "If you encounter issues with individual selection strings, please check that the specified column is indeed present in the table you provided. Also, the `datatable_to_id.py` tool assumes that the input table is tab-separated. If you have tables that use a different delimiter to separate columns, please specify the column separator using the `--separator` parameter. For example, if our input table was a CSV file, we would pass the following, additional argument to the `tools/datatable_to_id.py` function: `--separator \",\"`.\n",
    "\n",
    "\n",
    "Below are some additional examples of correct and incorrect selection strings that can help you with debugging the selection strings if you should encounter problems:"
   ]
  },
  {
   "cell_type": "markdown",
   "metadata": {},
   "source": [
    "- Correct: `\"(MWT >= 200) & (NRB <= 7)\"`\n",
    "- Wrong: `\"( MWT >= 200) & ( NRB <= 7)\"` [spacing between parentheses and column names]\n",
    "- Wrong: `\"MWT >= 200 & NRB <= 7\"` [expressions seperated by logical '&' operator not enclosed in parentheses]\n",
    "- Wrong: `\"(mwt >= 200) & (nrb <= 7)\"` [column names don't match the columns in the data table file]\n",
    "- Wrong: `\"(mwt>=200) & (nrb<=7)\"` [no whitespace before and after operators for comparison]\n"
   ]
  },
  {
   "cell_type": "markdown",
   "metadata": {},
   "source": [
    "As mentioned at the beginning of this section, filtering consists of two steps:\n",
    "    \n",
    "1. Creating an ID file of molecule names\n",
    "2. Selecting molecules from MOL2 files using the ID file from step 1\n",
    "\n",
    "We already completed step 1, and now, we are going the ID file we just created to create MOL2 files that only contain the molecules of interest (i.e., molecules with a maximum number of 7 rotatable bonds and a molecular weight of at least 200 g/mol2). Consequently, we use the ID file `tutorial-results/01_selected_mol2s.txt` to select the molecules of interest from out MOL2 database at `tk-tutorial_data/partition_1-7/` as follows:"
   ]
  },
  {
   "cell_type": "code",
   "execution_count": 13,
   "metadata": {},
   "outputs": [
    {
     "name": "stdout",
     "output_type": "stream",
     "text": [
      "Processing partition_1.mol2 | scanned 10000 molecules | 12021 mol/sec\n",
      "Processing partition_2.mol2 | scanned 10000 molecules | 9435 mol/sec\n",
      "Processing partition_3.mol2 | scanned 10000 molecules | 7823 mol/sec\n",
      "Processing partition_4.mol2 | scanned 10000 molecules | 10801 mol/sec\n",
      "Processing partition_5.mol2 | scanned 10000 molecules | 8901 mol/sec\n",
      "Processing partition_6.mol2 | scanned 10000 molecules | 8661 mol/sec\n",
      "Processing partition_7.mol2 | scanned 10000 molecules | 8167 mol/sec\n",
      "Finished\n"
     ]
    }
   ],
   "source": [
    "! python tools/id_to_mol2.py \\\n",
    "  --input tk-tutorial_data/partition_1-7/ \\\n",
    "  --output tutorial-results/01_selected_mol2s/ \\\n",
    "  --id_file tutorial-results/01_selected_mol2s.txt \\\n",
    "  --whitelist True"
   ]
  },
  {
   "cell_type": "code",
   "execution_count": 14,
   "metadata": {},
   "outputs": [
    {
     "name": "stdout",
     "output_type": "stream",
     "text": [
      "partition_1.mol2 : 8628\n",
      "partition_2.mol2 : 8501\n",
      "partition_3.mol2 : 8537\n",
      "partition_4.mol2 : 8476\n",
      "partition_5.mol2 : 8535\n",
      "partition_6.mol2 : 8518\n",
      "partition_7.mol2 : 8555\n",
      "Total : 59750\n"
     ]
    }
   ],
   "source": [
    "! python tools/count_mol2.py \\\n",
    "  --input tutorial-results/01_selected_mol2s/"
   ]
  },
  {
   "cell_type": "markdown",
   "metadata": {},
   "source": [
    "As we can see from the output of `count_mol2.py`, we now have a slightly smaller database consisting of 59750 molecules -- we started with 70,000 structures to which we applied the selection criteria `\"(NRB <= 7) & (MWT >= 200)\"`."
   ]
  },
  {
   "cell_type": "markdown",
   "metadata": {},
   "source": [
    "## Filtering Step 2 -- Presence and Absence of Functional Groups"
   ]
  },
  {
   "cell_type": "markdown",
   "metadata": {},
   "source": [
    "In this second filtering step, we will select molecules that contain certain types of atoms and functional groups."
   ]
  },
  {
   "cell_type": "markdown",
   "metadata": {},
   "source": [
    "![](images/tools-tutorial-1/pipe-step-2.jpg)"
   ]
  },
  {
   "cell_type": "markdown",
   "metadata": {},
   "source": [
    "In the simple example presented in this section, we will consider molecules that contain at least one sp3 sulfur atom (as it can be found in sulfate groups) and at least one sp2 oxygen atom (keto group). \n",
    "\n",
    "When we filter by atom type, we can use the following MOL2 labels to specify filtering criteria:\n",
    "\n",
    "  - `atom_id`\n",
    "  - `atom_name`\n",
    "  - `atom_type`\n",
    "  - `subst_id`\n",
    "  - `subst_name`\n",
    "  - `charge`\n",
    "\n",
    "Note that the most useful specifiers are `atom_type` and `charge` in the context of selecting atoms and functional groups of interest. The `atom_type` specifier is used to refer to the atom types in MOL2 structures (for example, O.2, O.3, H, S.2, and so forth). The `charge` specifier refers to the partial charge column in MOL2 files."
   ]
  },
  {
   "cell_type": "markdown",
   "metadata": {},
   "source": [
    "Before we discuss the selection string syntax in more detail, let us execute an example where we select only those molecules that contain at least one sp3 sulfur atom (as it can be found in sulfate groups) and at least one sp2 oxygen atom (keto-group):"
   ]
  },
  {
   "cell_type": "code",
   "execution_count": 1,
   "metadata": {},
   "outputs": [
    {
     "name": "stdout",
     "output_type": "stream",
     "text": [
      "Using selection: [\"((pdmol.df.atom_type == 'S.3') | (pdmol.df.atom_type == 'S.o2'))\", \"(pdmol.df.atom_type == 'O.2')\"]\n",
      "Processing partition_1.mol2 | 276 mol/sec\n",
      "Processing partition_2.mol2 | 270 mol/sec\n",
      "Processing partition_3.mol2 | 278 mol/sec\n",
      "Processing partition_4.mol2 | 270 mol/sec\n",
      "Processing partition_5.mol2 | 267 mol/sec\n",
      "Processing partition_6.mol2 | 280 mol/sec\n",
      "Processing partition_7.mol2 | 253 mol/sec\n",
      "Finished\n"
     ]
    }
   ],
   "source": [
    "! python tools/funcgroup_presence_to_id.py \\\n",
    "  --input tutorial-results/01_selected_mol2s/ \\\n",
    "  --output tutorial-results/02_fgroup_presence_mol2s.txt \\\n",
    "  --selection \"((atom_type == 'S.3') | (atom_type == 'S.o2')) --> (atom_type == 'O.2')\" \\\n",
    "  --processes 0"
   ]
  },
  {
   "cell_type": "markdown",
   "metadata": {},
   "source": [
    "Note that we used all available processes on our machine by setting `--processes 0`, to speed up the computation. Alternatively, if you don't want to utilize all available CPUs, you can specify the number of CPUs to use manually, for example, by setting `--processes 1` to only use 1 CPU.\n",
    "\n",
    "To better understand how the selection string \"((atom_type == 'S.3') | (atom_type == 'S.o2')) --> (atom_type == 'O.2')\" works, let us break it down into 2 parts:\n",
    "\n",
    "1. \"((atom_type == 'S.3') | (atom_type == 'S.o2'))\"\n",
    "2. \"--> (atom_type == 'O.2')\"\n",
    "    \n",
    "In the first part, we use the logical OR operator '|' to select molecules that either contain an 'S.3' atom OR an 'S.o2' atom. Then, after this criterion has been applied to select the specified subset of molecules, the next criterion will be used, which is the criterion followed by the '-->' string. In this case, the remaining molecules will be checked for the presence of an 'O.2' atom. \n",
    "\n",
    "<div class=\"alert alert-block alert-info\"> &#9888; In this context, you can think of the '-->' string as a \"THEN\" conditional statement. E.g., \"select via filter ((atom_type == 'S.3') | (atom_type == 'S.o2')) THEN select via filter (atom_type == 'O.2')\" </div>\n",
    "\n",
    "\n",
    "Note that you can string an arbitrary number of criteria using the '-->' operator. For example, if we additionally require molecules to contain a fluor atom, we can modify the selection string as follows (the modification is highlighted in bold font):\n",
    "\n",
    "\"((atom_type == 'S.3') | (atom_type == 'S.o2')) --> (atom_type == 'O.2') **--> (atom_type == 'F')**\"\n",
    "\n",
    "Lastly, we can also incorporate partial charge information. For instance, if we want to specify a partial charge range for the O.2 atom type, we could do it as follows, using the logical \"&\" operator:\n",
    "\n",
    "\"((atom_type == 'S.3') | (atom_type == 'S.o2')) --> ((atom_type == 'O.2') **& (charge <= -0.3) & (charge >= -0.9))**\"\n",
    "\n",
    "Please note that it doesn't make sense to use the logical AND operator (&) on the same column. For example, the selection string \"((atom_type == 'S.3') | (atom_type == 'S.o2'))\" means that a molecule must contain an atom that is either of type S.3 OR S.o2. However, the selection string \"((atom_type == 'S.3') & (atom_type == 'S.o2'))\" would mean that a molecule must contain an atom that has the type S.3 AND S.o2 at the same time, which is impossible, because an atom can only have 1 type at the same time (in the MOL2 file format)."
   ]
  },
  {
   "cell_type": "markdown",
   "metadata": {},
   "source": [
    "---\n",
    "\n",
    "**Below, you can find a short list of Dos and Don'ts regarding the selection syntax**:\n",
    "\n",
    "a) Don't use the AND operator (&) on the same column within a selection: \"((atom_type == 'S.3') | (atom_type == 'S.o2')) & (atom_type == 'O.2')\"\n",
    "\n",
    "- This selects molecules with an S.3 or S.o2 atom that is also an O.2 atom at the same time. This is impossible!\n",
    "\n",
    "b) Use the AND operator on different columns within a slection: \"((atom_type == 'S.3') | (atom_type == 'S.o2')) & (charge < 0.0)\"\n",
    "\n",
    "- This selects molecules with an S.3 or S.o2 atom that also has a negative charge.\n",
    "\n",
    "c) Filter for multiple atoms by chaining criteria via the `-->` string: \"((atom_type == 'S.3') | (atom_type == 'S.o2')) --> (atom_type == 'O.2')\"\n",
    "\n",
    "- This selects molecules with an S.3 or S.o2 atom. Then, based on those molecules, it selects only those molecules that also contain an O.2 atom.\n",
    "\n",
    "---"
   ]
  },
  {
   "cell_type": "markdown",
   "metadata": {},
   "source": [
    "As you remember from the \"[Step 1 -- Filtering via Features from Data Tables](#Step-1----Filtering-via-Features-from-Data-Tables)\" section, filtering in screenlamp consists of two stages:\n",
    "\n",
    "1. Creating an ID file of molecule names\n",
    "2. Selecting molecules from MOL2 files using the ID file from step 1\n",
    "\n",
    "We have already completed step 1 so that we can use the ID file we created to select the MOL2 structures from the MOL2 directory as follows:"
   ]
  },
  {
   "cell_type": "code",
   "execution_count": 19,
   "metadata": {},
   "outputs": [
    {
     "name": "stdout",
     "output_type": "stream",
     "text": [
      "Processing partition_1.mol2 | scanned 8628 molecules | 13872 mol/sec\n",
      "Processing partition_2.mol2 | scanned 8501 molecules | 12075 mol/sec\n",
      "Processing partition_3.mol2 | scanned 8537 molecules | 9794 mol/sec\n",
      "Processing partition_4.mol2 | scanned 8476 molecules | 12817 mol/sec\n",
      "Processing partition_5.mol2 | scanned 8535 molecules | 15391 mol/sec\n",
      "Processing partition_6.mol2 | scanned 8518 molecules | 12703 mol/sec\n",
      "Processing partition_7.mol2 | scanned 8555 molecules | 11566 mol/sec\n",
      "Finished\n"
     ]
    }
   ],
   "source": [
    "! python tools/id_to_mol2.py \\\n",
    "  --input tutorial-results/01_selected_mol2s/ \\\n",
    "  --output tutorial-results/02_fgroup_presence_mol2s \\\n",
    "  --id_file tutorial-results/02_fgroup_presence_mol2s.txt \\\n",
    "  --whitelist True"
   ]
  },
  {
   "cell_type": "code",
   "execution_count": 22,
   "metadata": {},
   "outputs": [
    {
     "name": "stdout",
     "output_type": "stream",
     "text": [
      "partition_1.mol2 : 2140\n",
      "partition_2.mol2 : 2118\n",
      "partition_3.mol2 : 2064\n",
      "partition_4.mol2 : 2107\n",
      "partition_5.mol2 : 2068\n",
      "partition_6.mol2 : 2189\n",
      "partition_7.mol2 : 2186\n",
      "Total : 14872\n"
     ]
    }
   ],
   "source": [
    "! python tools/count_mol2.py \\\n",
    "--input tutorial-results/02_fgroup_presence_mol2s"
   ]
  },
  {
   "cell_type": "markdown",
   "metadata": {},
   "source": [
    "As we can see, we only have 14,872 by applying the atom- and functional group based selection criteria. To summarize the steps so far, in \"Filtering Step 1\" we selected 59,750 (molecules that have fewer than 7 rotatable bonds and are heavier than 200 g/mol) out of 70,000 molecules. Then, in this section (\"Filtering Step 2\"), we selected 14,872 out of those 59,750, molecules that have at least 1 keto and 1 sp3 sulfur atom."
   ]
  },
  {
   "cell_type": "markdown",
   "metadata": {},
   "source": [
    "## Step 3 -- Filtering by Distance between Functional Groups"
   ]
  },
  {
   "cell_type": "markdown",
   "metadata": {},
   "source": [
    "In this third step, we will now select only those molecules that have a sp3 sulfur atom and a keto-group within a 13-20 angstrom distance.\n",
    "\n",
    "![](images/tools-tutorial-1/pipe-step-3.jpg)\n",
    "\n",
    "<div class=\"alert alert-block alert-info\"> &#9888; Technically, we could have skipped the section \"Filtering Step 2\" and directly proceeded with the distance-based atom selection described in this section. However, note that distance calculations are computationally more expensive than merely checking for the presence of certain atoms and functional groups. Thus, but separating those two tasks, we can filter out molecules that don't contain a keto and a sp3 sulfur atoms first.</div>"
   ]
  },
  {
   "cell_type": "markdown",
   "metadata": {},
   "source": [
    "The selection string syntax is analogous to the `--selection` parameter described in the \"Filtering Step 2\" --  please revisit this section if you need a refresher. However, it shall be noted that the distance selection only works for a pair of atoms. For example, the following string\n",
    "\n",
    "\"((atom_type == 'S.3') | (atom_type == 'S.o2')) --> (atom_type == 'O.2')\"\n",
    "\n",
    "checks the distance between an atom A, which is either an S.3 or an S.o2 atom, and an atom B, which is an O.2 atom. If you want to compute the distance between multiple atoms, for example, the distance of atom A to atoms B and C, you need to repeat the distance selection multiple times. For example, you would perform the distance selection between A and B first, and then, in a second iteration, you would perform the distance selection on the results of the first selection, to select molecules based on the distance between atom A and C.\n",
    "\n",
    "Now, let us execute the first step of a filtering step in screenlamp and create an ID file of molecules that have an sp3 sulfur and an O.2 atom within a 13-20 angstrom distance. "
   ]
  },
  {
   "cell_type": "code",
   "execution_count": 2,
   "metadata": {},
   "outputs": [
    {
     "name": "stdout",
     "output_type": "stream",
     "text": [
      "Using selection: [\"((pdmol.df.atom_type == 'S.3') | (pdmol.df.atom_type == 'S.o2'))\", \"(pdmol.df.atom_type == 'O.2')\"]\n",
      "Processing partition_1.mol2 | 196 mol/sec\n",
      "Processing partition_2.mol2 | 235 mol/sec\n",
      "Processing partition_3.mol2 | 244 mol/sec\n",
      "Processing partition_4.mol2 | 228 mol/sec\n",
      "Processing partition_5.mol2 | 226 mol/sec\n",
      "Processing partition_6.mol2 | 228 mol/sec\n",
      "Processing partition_7.mol2 | 220 mol/sec\n",
      "Finished\n"
     ]
    }
   ],
   "source": [
    "! python tools/funcgroup_distance_to_id.py \\\n",
    "  --input tutorial-results/02_fgroup_presence_mol2s \\\n",
    "  --output tutorial-results/03_fgroup_distance_mol2s.txt \\\n",
    "  --selection \"((atom_type == 'S.3') | (atom_type == 'S.o2')) --> (atom_type == 'O.2')\" \\\n",
    "  --distance \"13-20\" \\\n",
    "  --processes 0"
   ]
  },
  {
   "cell_type": "markdown",
   "metadata": {},
   "source": [
    "Following the already familiar procedure, we can now select the MOL2 structures using the generated ID file:"
   ]
  },
  {
   "cell_type": "code",
   "execution_count": 3,
   "metadata": {},
   "outputs": [
    {
     "name": "stdout",
     "output_type": "stream",
     "text": [
      "Processing partition_1.mol2 | scanned 2140 molecules | 18214 mol/sec\n",
      "Processing partition_2.mol2 | scanned 2118 molecules | 16030 mol/sec\n",
      "Processing partition_3.mol2 | scanned 2064 molecules | 12371 mol/sec\n",
      "Processing partition_4.mol2 | scanned 2107 molecules | 14275 mol/sec\n",
      "Processing partition_5.mol2 | scanned 2068 molecules | 14494 mol/sec\n",
      "Processing partition_6.mol2 | scanned 2189 molecules | 12596 mol/sec\n",
      "Processing partition_7.mol2 | scanned 2186 molecules | 14133 mol/sec\n",
      "Finished\n"
     ]
    }
   ],
   "source": [
    "! python tools/id_to_mol2.py \\\n",
    "  --input tutorial-results/02_fgroup_presence_mol2s \\\n",
    "  --output tutorial-results/03_fgroup_distance_mol2s \\\n",
    "  --id_file tutorial-results/03_fgroup_distance_mol2s.txt \\\n",
    "  --whitelist True"
   ]
  },
  {
   "cell_type": "code",
   "execution_count": 4,
   "metadata": {},
   "outputs": [
    {
     "name": "stdout",
     "output_type": "stream",
     "text": [
      "partition_1.mol2 : 16\n",
      "partition_2.mol2 : 16\n",
      "partition_3.mol2 : 13\n",
      "partition_4.mol2 : 15\n",
      "partition_5.mol2 : 12\n",
      "partition_6.mol2 : 20\n",
      "partition_7.mol2 : 15\n",
      "Total : 107\n"
     ]
    }
   ],
   "source": [
    "! python tools/count_mol2.py \\\n",
    "  --input tutorial-results/03_fgroup_distance_mol2s"
   ]
  },
  {
   "cell_type": "markdown",
   "metadata": {},
   "source": [
    "After applying this distance-based filtering step, we can see that only 107 molecules out of the 14,872 from \"[Filtering Step 2 -- Presence and Absence of Functional Groups](#Filtering Step 2 -- Presence and Absence of Functional Groups)\" remain."
   ]
  },
  {
   "cell_type": "markdown",
   "metadata": {},
   "source": [
    "## Step 4 -- Generating Conformers"
   ]
  },
  {
   "cell_type": "markdown",
   "metadata": {},
   "source": [
    "In this section, we are going to generate low-energy conformers of the molecules we have selected so far. In the next section, we are going to use these favorable-energy conformations and overlay them with a query molecule."
   ]
  },
  {
   "cell_type": "markdown",
   "metadata": {},
   "source": [
    "![](images/tools-tutorial-1/pipe-step-4.jpg)"
   ]
  },
  {
   "cell_type": "markdown",
   "metadata": {},
   "source": [
    "Generating low-energy conformers of either database or reference molecule is highly recommended to account for the flexibility of molecules (for instance, rotatable bonds) when overlaying molecules (in the next step, \"Step 5 -- Overlaying Reference and Database molecules\"). However, note that working with low-energy conformers increases the computational cost involved in computing the optimal overlays. For example, assuming that we have 10,000 database molecules and one reference molecule, generating 200 low-energy conformers of each of those database molecules would result in a database of 10,000x200 = 2,000,000 molecules. Consequently, we will have to sample 2,000,000x1 overlays (200 overlays per database molecule) instead of 10,000 overlays to obtain the best-overlaying pairs. To take it a step further, we could also consider multiple conformers of the reference molecule. For example, if we create 200 conformers of the one reference molecule as well, we will have to overlay 2000,000x200 = 40,000,000 pairs. To summarize, the three different options as input for overlaying the reference molecule with the database molecule are given below, in increasing order of computational cost, which is proportional to the thoroughness of the sampling procedure:\n",
    "\n",
    "1) Overlay a single conformer for both database and the reference molecule\n",
    "2) Overlay a single reference molecule conformer with multiple database molecule conformers\n",
    "3) Overlay multiple reference molecule conformers with multiple database molecule conformers\n",
    "\n",
    "In this tutorial, we will use option 3), where we create up to 200 conformers of each database molecule using OpenEye Omega and overlay them with an existing multi-conformer reference molecule that is already provided with the tutorial files (`3kpzs_query.mol2`, which contains 35 favorable-energy conformers of the reference molecule 3kPZS).\n",
    "\n",
    "\n",
    "Again, please note the creating multiple conformers of a molecule is optional. The program we are going to use is OpenEye Omega, but you may use alternative tools as well, as long as they can output those conformer structures in MOL2 file format. \n",
    "\n",
    "<div class=\"alert alert-block alert-info\"> &#9888; Please also note that the conformers of a given molecule (database or reference molecule) files should have the same molecule ID in the MOL2 files to parse the output of \"[Step 5 -- Overlaying Reference and Database molecules](#Step-5----Overlaying-Reference-and-Database-molecules)\" without additional workarounds. For example, if you have a multi-conformer MOL2 file such as 3kpzs_query.mol2, make sure that the molecule IDs in the MOL2 file are all \"3kPZS\" and don't have any suffixes or prefixes such as \"3kPZS_1, 3KPZS_2, ...\". The reason why we want to avoid prefixes and suffixes in those conformer names is that the overlay tool OpenEye ROCS identifies conformers by their structure, not their names, and such molecule IDs would only result in annoying name mangling, which makes the results harder to parse downstream in the analysis pipeline. </div>"
   ]
  },
  {
   "cell_type": "markdown",
   "metadata": {},
   "source": [
    "<div class=\"alert alert-block alert-info\"> &#9888;  Optionally, [\"Step 3 -- Filtering by Distance between Functional Groups\"](Step-3----Filtering-by-Distance-between-Functional-Groups) can also be repeated on the output of this step, the low-energy conformers, to sort out conformers where functional groups are in a spatial arrangement that may not be consistent with prior knowledge -- for example, experimental insights that a molecule interacts via certain groups in a particular way with its binding partner.</div>"
   ]
  },
  {
   "cell_type": "markdown",
   "metadata": {},
   "source": [
    "While you can use OpenEye Omega directly from the command line as described in the documentation at https://www.eyesopen.com/omega, screenlamp provides a wrapper tool that generates multiconformer files of all mol2 files in a given directory using its default settings, which can be used as shown below (note that you need to provide an `--executable` path pointing to the Omega program on your machine:"
   ]
  },
  {
   "cell_type": "code",
   "execution_count": 6,
   "metadata": {},
   "outputs": [
    {
     "name": "stdout",
     "output_type": "stream",
     "text": [
      "Processing tutorial-results/03_fgroup_distance_mol2s/partition_1.mol2\n",
      "Slave started on host Sebastians-MacBook-Pro\n",
      "Slave started on host Sebastians-MacBook-Pro\n",
      "Slave started on host Sebastians-MacBook-Pro\n",
      "\n",
      "          :jGf:             .d8888b. 88d8b.d8b. .d8888b. .d8888b. .d8888b.\n",
      "        :jGDDDDf:           88'  `88 88'`88'`88 88ooood8 88'  `88 88'  `88\n",
      "      ,fDDDGjLDDDf,         88.  .88 88  88  88 88.  ... 88.  .88 88.  .88\n",
      "    ,fDDLt:   :iLDDL;       `88888P' dP  dP  dP `88888P' `8888P88 `88888P8\n",
      "  ;fDLt:         :tfDG;                                       .88\n",
      ",jft:   ,ijfffji,   :iff                                  d8888P\n",
      "     .jGDDDDDDDDDGt.      \n",
      "    ;GDDGt:''':tDDDG,          Copyright (c) 2004-2013\n",
      "   .DDDG:       :GDDG.         OpenEye Scientific Software, Inc.\n",
      "   ;DDDj         tDDDi    \n",
      "   ,DDDf         fDDD,         Version: 2.5.1.4\n",
      "    LDDDt.     .fDDDj          Built:   20130515\n",
      "    .tDDDDfjtjfDDDGt           OEChem version: 1.9.1\n",
      "      :ifGDDDDDGfi.            Platform: osx-10.8-clang++4-x64\n",
      "          .:::.                \n",
      "  ......................       \n",
      "  DDDDDDDDDDDDDDDDDDDDDD       \n",
      "  DDDDDDDDDDDDDDDDDDDDDD       \n",
      "\n",
      "Supported run modes:\n",
      "  Single processor\n",
      "  MPI Multiprocessor\n",
      "\n",
      "  Licensed for the exclusive use of The Laboratory of Leslie Kuhn.\n",
      "  Licensed for use only in Michigan State University.\n",
      "  License expires on October 20, 2017.\n",
      "\n",
      "\n",
      "To cite OMEGA please use the following:\n",
      "  OMEGA 2.5.1.4: OpenEye Scientific Software, Santa Fe, NM.\n",
      "  http://www.eyesopen.com.\n",
      "\n",
      "  Hawkins, P.C.D.; Skillman, A.G.; Warren, G.L.; Ellingson, B.A.; Stahl, M.T.\n",
      "  Conformer Generation with OMEGA: Algorithm and Validation Using High\n",
      "  Quality Structures from the Protein Databank and the Cambridge \n",
      "  Structural Database. J. Chem. Inf. Model. 2010, 50, 572-584.\n",
      "\n",
      "Running as MPI Master\n",
      "...ce_mol2s/partition_1.mol2|****************************************|100.00%\n",
      "Processing tutorial-results/03_fgroup_distance_mol2s/partition_2.mol2\n",
      "Slave started on host Sebastians-MacBook-Pro\n",
      "Slave started on host Sebastians-MacBook-Pro\n",
      "\n",
      "          :jGf:             .d8888b. 88d8b.d8b. .d8888b. .d8888b. .d8888b.\n",
      "        :jGDDDDf:           88'  `88 88'`88'`88 88ooood8 88'  `88 88'  `88\n",
      "      ,fDDDGjLDDDf,         88.  .88 88  88  88 88.  ... 88.  .88 88.  .88\n",
      "    ,fDDLt:   :iLDDL;       `88888P' dP  dP  dP `88888P' `8888P88 `88888P8\n",
      "  ;fDLt:         :tfDG;                                       .88\n",
      ",jft:   ,ijfffji,   :iff                                  d8888P\n",
      "     .jGDDDDDDDDDGt.      \n",
      "    ;GDDGt:''':tDDDG,          Copyright (c) 2004-2013\n",
      "   .DDDG:       :GDDG.         OpenEye Scientific Software, Inc.\n",
      "   ;DDDj         tDDDi    \n",
      "   ,DDDf         fDDD,         Version: 2.5.1.4\n",
      "    LDDDt.     .fDDDj          Built:   20130515\n",
      "    .tDDDDfjtjfDDDGt           OEChem version: 1.9.1\n",
      "      :ifGDDDDDGfi.            Platform: osx-10.8-clang++4-x64\n",
      "          .:::.                \n",
      "  ......................       \n",
      "  DDDDDDDDDDDDDDDDDDDDDD       \n",
      "  DDDDDDDDDDDDDDDDDDDDDD       \n",
      "\n",
      "Supported run modes:\n",
      "  Single processor\n",
      "  MPI Multiprocessor\n",
      "\n",
      "  Licensed for the exclusive use of The Laboratory of Leslie Kuhn.\n",
      "  Licensed for use only in Michigan State University.\n",
      "  License expires on October 20, 2017.\n",
      "\n",
      "\n",
      "To cite OMEGA please use the following:\n",
      "  OMEGA 2.5.1.4: OpenEye Scientific Software, Santa Fe, NM.\n",
      "  http://www.eyesopen.com.\n",
      "\n",
      "  Hawkins, P.C.D.; Skillman, A.G.; Warren, G.L.; Ellingson, B.A.; Stahl, M.T.\n",
      "  Conformer Generation with OMEGA: Algorithm and Validation Using High\n",
      "  Quality Structures from the Protein Databank and the Cambridge \n",
      "  Structural Database. J. Chem. Inf. Model. 2010, 50, 572-584.\n",
      "\n",
      "Running as MPI Master\n",
      "Slave started on host Sebastians-MacBook-Pro\n",
      "...ce_mol2s/partition_2.mol2|****************************************|100.00%\n",
      "Processing tutorial-results/03_fgroup_distance_mol2s/partition_3.mol2\n",
      "Slave started on host Sebastians-MacBook-Pro\n",
      "Slave started on host Sebastians-MacBook-Pro\n",
      "Slave started on host Sebastians-MacBook-Pro\n",
      "\n",
      "          :jGf:             .d8888b. 88d8b.d8b. .d8888b. .d8888b. .d8888b.\n",
      "        :jGDDDDf:           88'  `88 88'`88'`88 88ooood8 88'  `88 88'  `88\n",
      "      ,fDDDGjLDDDf,         88.  .88 88  88  88 88.  ... 88.  .88 88.  .88\n",
      "    ,fDDLt:   :iLDDL;       `88888P' dP  dP  dP `88888P' `8888P88 `88888P8\n",
      "  ;fDLt:         :tfDG;                                       .88\n",
      ",jft:   ,ijfffji,   :iff                                  d8888P\n",
      "     .jGDDDDDDDDDGt.      \n",
      "    ;GDDGt:''':tDDDG,          Copyright (c) 2004-2013\n",
      "   .DDDG:       :GDDG.         OpenEye Scientific Software, Inc.\n",
      "   ;DDDj         tDDDi    \n",
      "   ,DDDf         fDDD,         Version: 2.5.1.4\n",
      "    LDDDt.     .fDDDj          Built:   20130515\n",
      "    .tDDDDfjtjfDDDGt           OEChem version: 1.9.1\n",
      "      :ifGDDDDDGfi.            Platform: osx-10.8-clang++4-x64\n",
      "          .:::.                \n",
      "  ......................       \n",
      "  DDDDDDDDDDDDDDDDDDDDDD       \n",
      "  DDDDDDDDDDDDDDDDDDDDDD       \n",
      "\n",
      "Supported run modes:\n",
      "  Single processor\n",
      "  MPI Multiprocessor\n",
      "\n",
      "  Licensed for the exclusive use of The Laboratory of Leslie Kuhn.\n",
      "  Licensed for use only in Michigan State University.\n",
      "  License expires on October 20, 2017.\n",
      "\n",
      "\n",
      "To cite OMEGA please use the following:\n",
      "  OMEGA 2.5.1.4: OpenEye Scientific Software, Santa Fe, NM.\n",
      "  http://www.eyesopen.com.\n",
      "\n",
      "  Hawkins, P.C.D.; Skillman, A.G.; Warren, G.L.; Ellingson, B.A.; Stahl, M.T.\n",
      "  Conformer Generation with OMEGA: Algorithm and Validation Using High\n",
      "  Quality Structures from the Protein Databank and the Cambridge \n",
      "  Structural Database. J. Chem. Inf. Model. 2010, 50, 572-584.\n",
      "\n",
      "Running as MPI Master\n",
      "...ce_mol2s/partition_3.mol2|****************************************|100.00%\n",
      "Processing tutorial-results/03_fgroup_distance_mol2s/partition_4.mol2\n",
      "Slave started on host Sebastians-MacBook-Pro\n",
      "Slave started on host Sebastians-MacBook-Pro\n",
      "Slave started on host Sebastians-MacBook-Pro\n",
      "\n",
      "          :jGf:             .d8888b. 88d8b.d8b. .d8888b. .d8888b. .d8888b.\n",
      "        :jGDDDDf:           88'  `88 88'`88'`88 88ooood8 88'  `88 88'  `88\n",
      "      ,fDDDGjLDDDf,         88.  .88 88  88  88 88.  ... 88.  .88 88.  .88\n",
      "    ,fDDLt:   :iLDDL;       `88888P' dP  dP  dP `88888P' `8888P88 `88888P8\n",
      "  ;fDLt:         :tfDG;                                       .88\n",
      ",jft:   ,ijfffji,   :iff                                  d8888P\n",
      "     .jGDDDDDDDDDGt.      \n",
      "    ;GDDGt:''':tDDDG,          Copyright (c) 2004-2013\n",
      "   .DDDG:       :GDDG.         OpenEye Scientific Software, Inc.\n",
      "   ;DDDj         tDDDi    \n",
      "   ,DDDf         fDDD,         Version: 2.5.1.4\n",
      "    LDDDt.     .fDDDj          Built:   20130515\n",
      "    .tDDDDfjtjfDDDGt           OEChem version: 1.9.1\n",
      "      :ifGDDDDDGfi.            Platform: osx-10.8-clang++4-x64\n",
      "          .:::.                \n",
      "  ......................       \n",
      "  DDDDDDDDDDDDDDDDDDDDDD       \n",
      "  DDDDDDDDDDDDDDDDDDDDDD       \n",
      "\n",
      "Supported run modes:\n",
      "  Single processor\n",
      "  MPI Multiprocessor\n",
      "\n",
      "  Licensed for the exclusive use of The Laboratory of Leslie Kuhn.\n",
      "  Licensed for use only in Michigan State University.\n",
      "  License expires on October 20, 2017.\n",
      "\n",
      "\n",
      "To cite OMEGA please use the following:\n",
      "  OMEGA 2.5.1.4: OpenEye Scientific Software, Santa Fe, NM.\n",
      "  http://www.eyesopen.com.\n",
      "\n",
      "  Hawkins, P.C.D.; Skillman, A.G.; Warren, G.L.; Ellingson, B.A.; Stahl, M.T.\n",
      "  Conformer Generation with OMEGA: Algorithm and Validation Using High\n",
      "  Quality Structures from the Protein Databank and the Cambridge \n",
      "  Structural Database. J. Chem. Inf. Model. 2010, 50, 572-584.\n",
      "\n",
      "Running as MPI Master\n",
      "...ce_mol2s/partition_4.mol2|****************************************|100.00%\n",
      "Processing tutorial-results/03_fgroup_distance_mol2s/partition_5.mol2\n",
      "Slave started on host Sebastians-MacBook-Pro\n",
      "Slave started on host Sebastians-MacBook-Pro\n",
      "Slave started on host Sebastians-MacBook-Pro\n",
      "\n",
      "          :jGf:             .d8888b. 88d8b.d8b. .d8888b. .d8888b. .d8888b.\n",
      "        :jGDDDDf:           88'  `88 88'`88'`88 88ooood8 88'  `88 88'  `88\n",
      "      ,fDDDGjLDDDf,         88.  .88 88  88  88 88.  ... 88.  .88 88.  .88\n",
      "    ,fDDLt:   :iLDDL;       `88888P' dP  dP  dP `88888P' `8888P88 `88888P8\n",
      "  ;fDLt:         :tfDG;                                       .88\n",
      ",jft:   ,ijfffji,   :iff                                  d8888P\n",
      "     .jGDDDDDDDDDGt.      \n",
      "    ;GDDGt:''':tDDDG,          Copyright (c) 2004-2013\n",
      "   .DDDG:       :GDDG.         OpenEye Scientific Software, Inc.\n",
      "   ;DDDj         tDDDi    \n",
      "   ,DDDf         fDDD,         Version: 2.5.1.4\n",
      "    LDDDt.     .fDDDj          Built:   20130515\n",
      "    .tDDDDfjtjfDDDGt           OEChem version: 1.9.1\n",
      "      :ifGDDDDDGfi.            Platform: osx-10.8-clang++4-x64\n",
      "          .:::.                \n",
      "  ......................       \n",
      "  DDDDDDDDDDDDDDDDDDDDDD       \n",
      "  DDDDDDDDDDDDDDDDDDDDDD       \n",
      "\n",
      "Supported run modes:\n",
      "  Single processor\n",
      "  MPI Multiprocessor\n",
      "\n",
      "  Licensed for the exclusive use of The Laboratory of Leslie Kuhn.\n",
      "  Licensed for use only in Michigan State University.\n",
      "  License expires on October 20, 2017.\n",
      "\n",
      "\n",
      "To cite OMEGA please use the following:\n",
      "  OMEGA 2.5.1.4: OpenEye Scientific Software, Santa Fe, NM.\n",
      "  http://www.eyesopen.com.\n",
      "\n",
      "  Hawkins, P.C.D.; Skillman, A.G.; Warren, G.L.; Ellingson, B.A.; Stahl, M.T.\n",
      "  Conformer Generation with OMEGA: Algorithm and Validation Using High\n",
      "  Quality Structures from the Protein Databank and the Cambridge \n",
      "  Structural Database. J. Chem. Inf. Model. 2010, 50, 572-584.\n",
      "\n",
      "Running as MPI Master\n"
     ]
    },
    {
     "name": "stdout",
     "output_type": "stream",
     "text": [
      "...ce_mol2s/partition_5.mol2|****************************************|100.00%\n",
      "Processing tutorial-results/03_fgroup_distance_mol2s/partition_6.mol2\n",
      "Slave started on host Sebastians-MacBook-Pro\n",
      "Slave started on host Sebastians-MacBook-Pro\n",
      "Slave started on host Sebastians-MacBook-Pro\n",
      "\n",
      "          :jGf:             .d8888b. 88d8b.d8b. .d8888b. .d8888b. .d8888b.\n",
      "        :jGDDDDf:           88'  `88 88'`88'`88 88ooood8 88'  `88 88'  `88\n",
      "      ,fDDDGjLDDDf,         88.  .88 88  88  88 88.  ... 88.  .88 88.  .88\n",
      "    ,fDDLt:   :iLDDL;       `88888P' dP  dP  dP `88888P' `8888P88 `88888P8\n",
      "  ;fDLt:         :tfDG;                                       .88\n",
      ",jft:   ,ijfffji,   :iff                                  d8888P\n",
      "     .jGDDDDDDDDDGt.      \n",
      "    ;GDDGt:''':tDDDG,          Copyright (c) 2004-2013\n",
      "   .DDDG:       :GDDG.         OpenEye Scientific Software, Inc.\n",
      "   ;DDDj         tDDDi    \n",
      "   ,DDDf         fDDD,         Version: 2.5.1.4\n",
      "    LDDDt.     .fDDDj          Built:   20130515\n",
      "    .tDDDDfjtjfDDDGt           OEChem version: 1.9.1\n",
      "      :ifGDDDDDGfi.            Platform: osx-10.8-clang++4-x64\n",
      "          .:::.                \n",
      "  ......................       \n",
      "  DDDDDDDDDDDDDDDDDDDDDD       \n",
      "  DDDDDDDDDDDDDDDDDDDDDD       \n",
      "\n",
      "Supported run modes:\n",
      "  Single processor\n",
      "  MPI Multiprocessor\n",
      "\n",
      "  Licensed for the exclusive use of The Laboratory of Leslie Kuhn.\n",
      "  Licensed for use only in Michigan State University.\n",
      "  License expires on October 20, 2017.\n",
      "\n",
      "\n",
      "To cite OMEGA please use the following:\n",
      "  OMEGA 2.5.1.4: OpenEye Scientific Software, Santa Fe, NM.\n",
      "  http://www.eyesopen.com.\n",
      "\n",
      "  Hawkins, P.C.D.; Skillman, A.G.; Warren, G.L.; Ellingson, B.A.; Stahl, M.T.\n",
      "  Conformer Generation with OMEGA: Algorithm and Validation Using High\n",
      "  Quality Structures from the Protein Databank and the Cambridge \n",
      "  Structural Database. J. Chem. Inf. Model. 2010, 50, 572-584.\n",
      "\n",
      "Running as MPI Master\n",
      "...ce_mol2s/partition_6.mol2|****************************************|100.00%\n",
      "Processing tutorial-results/03_fgroup_distance_mol2s/partition_7.mol2\n",
      "Slave started on host Sebastians-MacBook-Pro\n",
      "Slave started on host Sebastians-MacBook-Pro\n",
      "Slave started on host Sebastians-MacBook-Pro\n",
      "\n",
      "          :jGf:             .d8888b. 88d8b.d8b. .d8888b. .d8888b. .d8888b.\n",
      "        :jGDDDDf:           88'  `88 88'`88'`88 88ooood8 88'  `88 88'  `88\n",
      "      ,fDDDGjLDDDf,         88.  .88 88  88  88 88.  ... 88.  .88 88.  .88\n",
      "    ,fDDLt:   :iLDDL;       `88888P' dP  dP  dP `88888P' `8888P88 `88888P8\n",
      "  ;fDLt:         :tfDG;                                       .88\n",
      ",jft:   ,ijfffji,   :iff                                  d8888P\n",
      "     .jGDDDDDDDDDGt.      \n",
      "    ;GDDGt:''':tDDDG,          Copyright (c) 2004-2013\n",
      "   .DDDG:       :GDDG.         OpenEye Scientific Software, Inc.\n",
      "   ;DDDj         tDDDi    \n",
      "   ,DDDf         fDDD,         Version: 2.5.1.4\n",
      "    LDDDt.     .fDDDj          Built:   20130515\n",
      "    .tDDDDfjtjfDDDGt           OEChem version: 1.9.1\n",
      "      :ifGDDDDDGfi.            Platform: osx-10.8-clang++4-x64\n",
      "          .:::.                \n",
      "  ......................       \n",
      "  DDDDDDDDDDDDDDDDDDDDDD       \n",
      "  DDDDDDDDDDDDDDDDDDDDDD       \n",
      "\n",
      "Supported run modes:\n",
      "  Single processor\n",
      "  MPI Multiprocessor\n",
      "\n",
      "  Licensed for the exclusive use of The Laboratory of Leslie Kuhn.\n",
      "  Licensed for use only in Michigan State University.\n",
      "  License expires on October 20, 2017.\n",
      "\n",
      "\n",
      "To cite OMEGA please use the following:\n",
      "  OMEGA 2.5.1.4: OpenEye Scientific Software, Santa Fe, NM.\n",
      "  http://www.eyesopen.com.\n",
      "\n",
      "  Hawkins, P.C.D.; Skillman, A.G.; Warren, G.L.; Ellingson, B.A.; Stahl, M.T.\n",
      "  Conformer Generation with OMEGA: Algorithm and Validation Using High\n",
      "  Quality Structures from the Protein Databank and the Cambridge \n",
      "  Structural Database. J. Chem. Inf. Model. 2010, 50, 572-584.\n",
      "\n",
      "Running as MPI Master\n",
      "...ce_mol2s/partition_7.mol2|****************************************|100.00%\n"
     ]
    }
   ],
   "source": [
    "! python tools/run_omega.py \\\n",
    "  --input tutorial-results/03_fgroup_distance_mol2s \\\n",
    "  --output tutorial-results/04_omega_confomers/ \\\n",
    "  --executable \"/Applications/OMEGA 2.5.1.4.app/Contents/MacOS/omega2-2.5.1.4\" \\\n",
    "  --processes 0"
   ]
  },
  {
   "cell_type": "markdown",
   "metadata": {},
   "source": [
    "By default, Omega samples up to 50,000 conformer structures and keeps up to 200 conformers with favorable energy per molecule. Additional arguments can be provided using `--settings` flag of `run_omega.py`. For example, to increase the maximum number of conformers to keep from 200 to 500, you can provide the following argument: `\"--settings -maxconfs 500 \\\"`."
   ]
  },
  {
   "cell_type": "markdown",
   "metadata": {},
   "source": [
    "Now that we created the conformers of the database molecules, let us count the number of structures that we would consider for the pair-wise overlays in the next step:"
   ]
  },
  {
   "cell_type": "code",
   "execution_count": 7,
   "metadata": {},
   "outputs": [
    {
     "name": "stdout",
     "output_type": "stream",
     "text": [
      "partition_1.mol2 : 2940\n",
      "partition_2.mol2 : 2768\n",
      "partition_3.mol2 : 2263\n",
      "partition_4.mol2 : 2550\n",
      "partition_5.mol2 : 2394\n",
      "partition_6.mol2 : 3433\n",
      "partition_7.mol2 : 2693\n",
      "Total : 19041\n"
     ]
    }
   ],
   "source": [
    "! python tools/count_mol2.py \\\n",
    "  --input tutorial-results/04_omega_confomers/"
   ]
  },
  {
   "cell_type": "markdown",
   "metadata": {},
   "source": [
    "As we can see, we now have 19,041 structures to consider, which means Omega created ~200 low-energy (favorable) conformers of the 107 single-conformer input structures in `03_fgroup_distance_mol2s`."
   ]
  },
  {
   "cell_type": "markdown",
   "metadata": {},
   "source": [
    "## Step 5 -- Overlaying Reference and Database Molecules"
   ]
  },
  {
   "cell_type": "markdown",
   "metadata": {},
   "source": [
    "In this section we are going to overlay the database conformers we generated in `tutorial-results/04_omega_confomers/` that we generated in the previous step (\"[Step 4 -- Generating Conformers](Step-4----Generating-Conformers)\") with 35 conformers of the reference molecule (called 3kPZS), which are provided in the tutorial dataset as `3kpzs_query.mol2`. \n",
    "\n",
    "<div class=\"alert alert-block alert-info\"> &#9888; Note that if you are working with your own reference molecule, conformers can be generated similar to generating database molecules as described in section \"[Step 4 -- Generating Conformers](Step-4----Generating-Conformers)\".</div>\n",
    "\n",
    "![](images/tools-tutorial-1/pipe-step-5.jpg)\n",
    "\n",
    "Screenlamp provides a wrapper tool `run_rocs.py` that wraps OpenEye ROCS for generating molecular overlays. For more information about ROCS, please see https://www.eyesopen.com/rocs. The `run_rocs.py` wrapper uses ROCS's default settings plus additional settings provided as arguments to the `--settings` parameter of `run_rocs.py`. For more information about the ROCS settings, please refer to the official documentation at https://www.eyesopen.com/rocs. The settings we are going to use will overlay each query conformer with each database conformer, and it will only keep the best overlay for each multi-conformer per. For instance, if we have 200 conformers of a database molecule A and 200 conformers of a reference molecule B, only the single best overlay out of the 200x200 overlays will be kept."
   ]
  },
  {
   "cell_type": "code",
   "execution_count": 8,
   "metadata": {},
   "outputs": [
    {
     "name": "stdout",
     "output_type": "stream",
     "text": [
      "Processing partition_1.mol2\n",
      "          :jGf:               \n",
      "        :jGDDDDf:             \n",
      "      ,fDDDGjLDDDf,           'a8  ,a'8b   a''8b    a''8b  a8f'8\n",
      "    ,fDDLt:   :iLDDL;          88 a/  88  d'   8b  d'  88  88'  \n",
      "  ;fDLt:         :tfDG;        88P    8f d8    88 d8       '88aa\n",
      ",jft:   ,ijfffji,   :iff       8P        88    8P 88      a  '888\n",
      "     .jGDDDDDDDDDGt.           8i        88   d8  Y8   ,d 8    8P\n",
      "    ;GDDGt:''':tDDDG,          a8/        `88aa'    '8aa'  'baa8'\n",
      "   .DDDG:       :GDDG.    \n",
      "   ;DDDj         tDDDi    \n",
      "   ,DDDf         fDDD,         Copyright (C) 1997-2015\n",
      "    LDDDt.     .fDDDj          OpenEye Scientific Software, Inc.\n",
      "    .tDDDDfjtjfDDDGt      \n",
      "      :ifGDDDDDGfi.            Version: 3.2.1.4\n",
      "          .:::.                Built:   20150831\n",
      "  ......................       OEChem version: 2.0.4\n",
      "  DDDDDDDDDDDDDDDDDDDDDD       Platform: osx-10.10-clang++6-x64\n",
      "  DDDDDDDDDDDDDDDDDDDDDD  \n",
      "\n",
      "Supported run modes:\n",
      "  Single processor\n",
      "  MPI Multiprocessor\n",
      "\n",
      "  Licensed for the exclusive use of The Laboratory of Leslie Kuhn.\n",
      "  Licensed for use only in Michigan State University.\n",
      "  License expires on October 20, 2017.\n",
      "\n",
      "\n",
      "To cite ROCS please use the following:\n",
      "  ROCS 3.2.1.4: OpenEye Scientific Software, Santa Fe, NM.\n",
      "  http://www.eyesopen.com.\n",
      "\n",
      "  Hawkins, P.C.D.; Skillman, A.G.; Nicholls, A. Comparison of Shape-Matching\n",
      "  and Docking as Virtual Screening Tools. J. Med. Chem., 2007, 50, 74.\n",
      "\n",
      "Slave started on host Sebastians-MacBook-Pro\n",
      "Slave started on host Sebastians-MacBook-Pro\n",
      "Slave started on host Sebastians-MacBook-Pro\n",
      "Running as MPI Master\n",
      "  database file: tutorial-results/04_omega_confomers/partition_1.mol2\n",
      "\n",
      "Query being read from:         \ttk-tutorial_data/3kpzs_query.mol2\n",
      "File prefix is:                \ttutorial-results/05_rocs_overlays/partition_1\n",
      "Output directory:              \t/Users/sebastian/code/screenlamp/docs/sources/user_guide\n",
      "Log file will be written to: \ttutorial-results/05_rocs_overlays/partition_1.log\n",
      "Statistics will be written to:\ttutorial-results/05_rocs_overlays/partition_1_1.rpt\n",
      "Hit structures will written to:\ttutorial-results/05_rocs_overlays/partition_1_hits_1.mol2\n",
      "Status file will be written to:\ttutorial-results/05_rocs_overlays/partition_1_1.status\n",
      "\n",
      "Query(#1): 3KPZS has 35 conformer(s)\n",
      "Database 1 of 1:              \ttutorial-results/04_omega_confomers/partition_1.mol2\n",
      "...onfomers/partition_1.mol2|****************************************|100.00%\n",
      "\n",
      "16 molecules in 41 seconds -> 0.4 molecules/sec\n",
      "                              2510 overlays/sec\n",
      "\n",
      "16 hits found\n",
      "=================================================\n",
      "\n",
      "Molecule read failures: 0\n",
      "#warnings             : 0\n",
      "#errors               : 0\n",
      "#queries processed    : 1\n",
      "Processing partition_2.mol2\n",
      "Slave started on host Sebastians-MacBook-Pro\n",
      "Slave started on host Sebastians-MacBook-Pro\n",
      "          :jGf:               \n",
      "        :jGDDDDf:             \n",
      "      ,fDDDGjLDDDf,           'a8  ,a'8b   a''8b    a''8b  a8f'8\n",
      "    ,fDDLt:   :iLDDL;          88 a/  88  d'   8b  d'  88  88'  \n",
      "  ;fDLt:         :tfDG;        88P    8f d8    88 d8       '88aa\n",
      ",jft:   ,ijfffji,   :iff       8P        88    8P 88      a  '888\n",
      "     .jGDDDDDDDDDGt.           8i        88   d8  Y8   ,d 8    8P\n",
      "    ;GDDGt:''':tDDDG,          a8/        `88aa'    '8aa'  'baa8'\n",
      "   .DDDG:       :GDDG.    \n",
      "   ;DDDj         tDDDi    \n",
      "   ,DDDf         fDDD,         Copyright (C) 1997-2015\n",
      "    LDDDt.     .fDDDj          OpenEye Scientific Software, Inc.\n",
      "    .tDDDDfjtjfDDDGt      \n",
      "      :ifGDDDDDGfi.            Version: 3.2.1.4\n",
      "          .:::.                Built:   20150831\n",
      "  ......................       OEChem version: 2.0.4\n",
      "  DDDDDDDDDDDDDDDDDDDDDD       Platform: osx-10.10-clang++6-x64\n",
      "  DDDDDDDDDDDDDDDDDDDDDD  \n",
      "\n",
      "Supported run modes:\n",
      "  Single processor\n",
      "  MPI Multiprocessor\n",
      "\n",
      "  Licensed for the exclusive use of The Laboratory of Leslie Kuhn.\n",
      "  Licensed for use only in Michigan State University.\n",
      "  License expires on October 20, 2017.\n",
      "\n",
      "\n",
      "To cite ROCS please use the following:\n",
      "  ROCS 3.2.1.4: OpenEye Scientific Software, Santa Fe, NM.\n",
      "  http://www.eyesopen.com.\n",
      "\n",
      "  Hawkins, P.C.D.; Skillman, A.G.; Nicholls, A. Comparison of Shape-Matching\n",
      "  and Docking as Virtual Screening Tools. J. Med. Chem., 2007, 50, 74.\n",
      "\n",
      "Slave started on host Sebastians-MacBook-Pro\n",
      "Running as MPI Master\n",
      "  database file: tutorial-results/04_omega_confomers/partition_2.mol2\n",
      "\n",
      "Query being read from:         \ttk-tutorial_data/3kpzs_query.mol2\n",
      "File prefix is:                \ttutorial-results/05_rocs_overlays/partition_2\n",
      "Output directory:              \t/Users/sebastian/code/screenlamp/docs/sources/user_guide\n",
      "Log file will be written to: \ttutorial-results/05_rocs_overlays/partition_2.log\n",
      "Statistics will be written to:\ttutorial-results/05_rocs_overlays/partition_2_1.rpt\n",
      "Hit structures will written to:\ttutorial-results/05_rocs_overlays/partition_2_hits_1.mol2\n",
      "Status file will be written to:\ttutorial-results/05_rocs_overlays/partition_2_1.status\n",
      "\n",
      "Query(#1): 3KPZS has 35 conformer(s)\n",
      "Database 1 of 1:              \ttutorial-results/04_omega_confomers/partition_2.mol2\n",
      "...onfomers/partition_2.mol2|****************************************|100.00%\n",
      "\n",
      "16 molecules in 47 seconds -> 0.3 molecules/sec\n",
      "                              2061 overlays/sec\n",
      "\n",
      "16 hits found\n",
      "=================================================\n",
      "\n",
      "Molecule read failures: 0\n",
      "#warnings             : 0\n",
      "#errors               : 0\n",
      "#queries processed    : 1\n",
      "Processing partition_3.mol2\n",
      "Slave started on host Sebastians-MacBook-Pro\n",
      "Slave started on host Sebastians-MacBook-Pro\n",
      "Slave started on host Sebastians-MacBook-Pro\n",
      "          :jGf:               \n",
      "        :jGDDDDf:             \n",
      "      ,fDDDGjLDDDf,           'a8  ,a'8b   a''8b    a''8b  a8f'8\n",
      "    ,fDDLt:   :iLDDL;          88 a/  88  d'   8b  d'  88  88'  \n",
      "  ;fDLt:         :tfDG;        88P    8f d8    88 d8       '88aa\n",
      ",jft:   ,ijfffji,   :iff       8P        88    8P 88      a  '888\n",
      "     .jGDDDDDDDDDGt.           8i        88   d8  Y8   ,d 8    8P\n",
      "    ;GDDGt:''':tDDDG,          a8/        `88aa'    '8aa'  'baa8'\n",
      "   .DDDG:       :GDDG.    \n",
      "   ;DDDj         tDDDi    \n",
      "   ,DDDf         fDDD,         Copyright (C) 1997-2015\n",
      "    LDDDt.     .fDDDj          OpenEye Scientific Software, Inc.\n",
      "    .tDDDDfjtjfDDDGt      \n",
      "      :ifGDDDDDGfi.            Version: 3.2.1.4\n",
      "          .:::.                Built:   20150831\n",
      "  ......................       OEChem version: 2.0.4\n",
      "  DDDDDDDDDDDDDDDDDDDDDD       Platform: osx-10.10-clang++6-x64\n",
      "  DDDDDDDDDDDDDDDDDDDDDD  \n",
      "\n",
      "Supported run modes:\n",
      "  Single processor\n",
      "  MPI Multiprocessor\n",
      "\n",
      "  Licensed for the exclusive use of The Laboratory of Leslie Kuhn.\n",
      "  Licensed for use only in Michigan State University.\n",
      "  License expires on October 20, 2017.\n",
      "\n",
      "\n",
      "To cite ROCS please use the following:\n",
      "  ROCS 3.2.1.4: OpenEye Scientific Software, Santa Fe, NM.\n",
      "  http://www.eyesopen.com.\n",
      "\n",
      "  Hawkins, P.C.D.; Skillman, A.G.; Nicholls, A. Comparison of Shape-Matching\n",
      "  and Docking as Virtual Screening Tools. J. Med. Chem., 2007, 50, 74.\n",
      "\n",
      "Running as MPI Master\n",
      "  database file: tutorial-results/04_omega_confomers/partition_3.mol2\n",
      "\n",
      "Query being read from:         \ttk-tutorial_data/3kpzs_query.mol2\n",
      "File prefix is:                \ttutorial-results/05_rocs_overlays/partition_3\n",
      "Output directory:              \t/Users/sebastian/code/screenlamp/docs/sources/user_guide\n",
      "Log file will be written to: \ttutorial-results/05_rocs_overlays/partition_3.log\n",
      "Statistics will be written to:\ttutorial-results/05_rocs_overlays/partition_3_1.rpt\n",
      "Hit structures will written to:\ttutorial-results/05_rocs_overlays/partition_3_hits_1.mol2\n",
      "Status file will be written to:\ttutorial-results/05_rocs_overlays/partition_3_1.status\n",
      "\n",
      "Query(#1): 3KPZS has 35 conformer(s)\n",
      "Database 1 of 1:              \ttutorial-results/04_omega_confomers/partition_3.mol2\n",
      "...onfomers/partition_3.mol2|****************************************|100.00%\n",
      "\n",
      "13 molecules in 30 seconds -> 0.4 molecules/sec\n",
      "                              2640 overlays/sec\n",
      "\n",
      "13 hits found\n",
      "=================================================\n",
      "\n",
      "Molecule read failures: 0\n",
      "#warnings             : 0\n",
      "#errors               : 0\n",
      "#queries processed    : 1\n",
      "Processing partition_4.mol2\n",
      "Slave started on host Sebastians-MacBook-Pro\n",
      "Slave started on host Sebastians-MacBook-Pro\n",
      "          :jGf:               \n",
      "        :jGDDDDf:             \n",
      "      ,fDDDGjLDDDf,           'a8  ,a'8b   a''8b    a''8b  a8f'8\n",
      "    ,fDDLt:   :iLDDL;          88 a/  88  d'   8b  d'  88  88'  \n",
      "  ;fDLt:         :tfDG;        88P    8f d8    88 d8       '88aa\n",
      ",jft:   ,ijfffji,   :iff       8P        88    8P 88      a  '888\n",
      "     .jGDDDDDDDDDGt.           8i        88   d8  Y8   ,d 8    8P\n",
      "    ;GDDGt:''':tDDDG,          a8/        `88aa'    '8aa'  'baa8'\n",
      "   .DDDG:       :GDDG.    \n",
      "   ;DDDj         tDDDi    \n",
      "   ,DDDf         fDDD,         Copyright (C) 1997-2015\n",
      "    LDDDt.     .fDDDj          OpenEye Scientific Software, Inc.\n",
      "    .tDDDDfjtjfDDDGt      \n",
      "      :ifGDDDDDGfi.            Version: 3.2.1.4\n",
      "          .:::.                Built:   20150831\n",
      "  ......................       OEChem version: 2.0.4\n",
      "  DDDDDDDDDDDDDDDDDDDDDD       Platform: osx-10.10-clang++6-x64\n",
      "  DDDDDDDDDDDDDDDDDDDDDD  \n",
      "\n",
      "Supported run modes:\n",
      "  Single processor\n",
      "  MPI Multiprocessor\n",
      "\n",
      "  Licensed for the exclusive use of The Laboratory of Leslie Kuhn.\n",
      "  Licensed for use only in Michigan State University.\n",
      "  License expires on October 20, 2017.\n",
      "\n",
      "\n",
      "To cite ROCS please use the following:\n",
      "  ROCS 3.2.1.4: OpenEye Scientific Software, Santa Fe, NM.\n",
      "  http://www.eyesopen.com.\n",
      "\n",
      "  Hawkins, P.C.D.; Skillman, A.G.; Nicholls, A. Comparison of Shape-Matching\n",
      "  and Docking as Virtual Screening Tools. J. Med. Chem., 2007, 50, 74.\n",
      "\n",
      "Slave started on host Sebastians-MacBook-Pro\n",
      "Running as MPI Master\n",
      "  database file: tutorial-results/04_omega_confomers/partition_4.mol2\n",
      "\n",
      "Query being read from:         \ttk-tutorial_data/3kpzs_query.mol2\n",
      "File prefix is:                \ttutorial-results/05_rocs_overlays/partition_4\n",
      "Output directory:              \t/Users/sebastian/code/screenlamp/docs/sources/user_guide\n",
      "Log file will be written to: \ttutorial-results/05_rocs_overlays/partition_4.log\n"
     ]
    },
    {
     "name": "stdout",
     "output_type": "stream",
     "text": [
      "Statistics will be written to:\ttutorial-results/05_rocs_overlays/partition_4_1.rpt\n",
      "Hit structures will written to:\ttutorial-results/05_rocs_overlays/partition_4_hits_1.mol2\n",
      "Status file will be written to:\ttutorial-results/05_rocs_overlays/partition_4_1.status\n",
      "\n",
      "Query(#1): 3KPZS has 35 conformer(s)\n",
      "Database 1 of 1:              \ttutorial-results/04_omega_confomers/partition_4.mol2\n",
      "...onfomers/partition_4.mol2|****************************************|100.00%\n",
      "\n",
      "15 molecules in 42 seconds -> 0.4 molecules/sec\n",
      "                              2125 overlays/sec\n",
      "\n",
      "15 hits found\n",
      "=================================================\n",
      "\n",
      "Molecule read failures: 0\n",
      "#warnings             : 0\n",
      "#errors               : 0\n",
      "#queries processed    : 1\n",
      "Processing partition_5.mol2\n",
      "Slave started on host Sebastians-MacBook-Pro\n",
      "Slave started on host Sebastians-MacBook-Pro\n",
      "          :jGf:               \n",
      "        :jGDDDDf:             \n",
      "      ,fDDDGjLDDDf,           'a8  ,a'8b   a''8b    a''8b  a8f'8\n",
      "    ,fDDLt:   :iLDDL;          88 a/  88  d'   8b  d'  88  88'  \n",
      "  ;fDLt:         :tfDG;        88P    8f d8    88 d8       '88aa\n",
      ",jft:   ,ijfffji,   :iff       8P        88    8P 88      a  '888\n",
      "     .jGDDDDDDDDDGt.           8i        88   d8  Y8   ,d 8    8P\n",
      "    ;GDDGt:''':tDDDG,          a8/        `88aa'    '8aa'  'baa8'\n",
      "   .DDDG:       :GDDG.    \n",
      "   ;DDDj         tDDDi    \n",
      "   ,DDDf         fDDD,         Copyright (C) 1997-2015\n",
      "    LDDDt.     .fDDDj          OpenEye Scientific Software, Inc.\n",
      "    .tDDDDfjtjfDDDGt      \n",
      "      :ifGDDDDDGfi.            Version: 3.2.1.4\n",
      "          .:::.                Built:   20150831\n",
      "  ......................       OEChem version: 2.0.4\n",
      "  DDDDDDDDDDDDDDDDDDDDDD       Platform: osx-10.10-clang++6-x64\n",
      "  DDDDDDDDDDDDDDDDDDDDDD  \n",
      "\n",
      "Supported run modes:\n",
      "  Single processor\n",
      "  MPI Multiprocessor\n",
      "\n",
      "  Licensed for the exclusive use of The Laboratory of Leslie Kuhn.\n",
      "  Licensed for use only in Michigan State University.\n",
      "  License expires on October 20, 2017.\n",
      "\n",
      "\n",
      "To cite ROCS please use the following:\n",
      "  ROCS 3.2.1.4: OpenEye Scientific Software, Santa Fe, NM.\n",
      "  http://www.eyesopen.com.\n",
      "\n",
      "  Hawkins, P.C.D.; Skillman, A.G.; Nicholls, A. Comparison of Shape-Matching\n",
      "  and Docking as Virtual Screening Tools. J. Med. Chem., 2007, 50, 74.\n",
      "\n",
      "Slave started on host Sebastians-MacBook-Pro\n",
      "Running as MPI Master\n",
      "  database file: tutorial-results/04_omega_confomers/partition_5.mol2\n",
      "\n",
      "Query being read from:         \ttk-tutorial_data/3kpzs_query.mol2\n",
      "File prefix is:                \ttutorial-results/05_rocs_overlays/partition_5\n",
      "Output directory:              \t/Users/sebastian/code/screenlamp/docs/sources/user_guide\n",
      "Log file will be written to: \ttutorial-results/05_rocs_overlays/partition_5.log\n",
      "Statistics will be written to:\ttutorial-results/05_rocs_overlays/partition_5_1.rpt\n",
      "Hit structures will written to:\ttutorial-results/05_rocs_overlays/partition_5_hits_1.mol2\n",
      "Status file will be written to:\ttutorial-results/05_rocs_overlays/partition_5_1.status\n",
      "\n",
      "Query(#1): 3KPZS has 35 conformer(s)\n",
      "Database 1 of 1:              \ttutorial-results/04_omega_confomers/partition_5.mol2\n",
      "...onfomers/partition_5.mol2|****************************************|100.00%\n",
      "\n",
      "12 molecules in 40 seconds -> 0.3 molecules/sec\n",
      "                              2095 overlays/sec\n",
      "\n",
      "12 hits found\n",
      "=================================================\n",
      "\n",
      "Molecule read failures: 0\n",
      "#warnings             : 0\n",
      "#errors               : 0\n",
      "#queries processed    : 1\n",
      "Processing partition_6.mol2\n",
      "Slave started on host Sebastians-MacBook-Pro\n",
      "Slave started on host Sebastians-MacBook-Pro\n",
      "Slave started on host Sebastians-MacBook-Pro\n",
      "          :jGf:               \n",
      "        :jGDDDDf:             \n",
      "      ,fDDDGjLDDDf,           'a8  ,a'8b   a''8b    a''8b  a8f'8\n",
      "    ,fDDLt:   :iLDDL;          88 a/  88  d'   8b  d'  88  88'  \n",
      "  ;fDLt:         :tfDG;        88P    8f d8    88 d8       '88aa\n",
      ",jft:   ,ijfffji,   :iff       8P        88    8P 88      a  '888\n",
      "     .jGDDDDDDDDDGt.           8i        88   d8  Y8   ,d 8    8P\n",
      "    ;GDDGt:''':tDDDG,          a8/        `88aa'    '8aa'  'baa8'\n",
      "   .DDDG:       :GDDG.    \n",
      "   ;DDDj         tDDDi    \n",
      "   ,DDDf         fDDD,         Copyright (C) 1997-2015\n",
      "    LDDDt.     .fDDDj          OpenEye Scientific Software, Inc.\n",
      "    .tDDDDfjtjfDDDGt      \n",
      "      :ifGDDDDDGfi.            Version: 3.2.1.4\n",
      "          .:::.                Built:   20150831\n",
      "  ......................       OEChem version: 2.0.4\n",
      "  DDDDDDDDDDDDDDDDDDDDDD       Platform: osx-10.10-clang++6-x64\n",
      "  DDDDDDDDDDDDDDDDDDDDDD  \n",
      "\n",
      "Supported run modes:\n",
      "  Single processor\n",
      "  MPI Multiprocessor\n",
      "\n",
      "  Licensed for the exclusive use of The Laboratory of Leslie Kuhn.\n",
      "  Licensed for use only in Michigan State University.\n",
      "  License expires on October 20, 2017.\n",
      "\n",
      "\n",
      "To cite ROCS please use the following:\n",
      "  ROCS 3.2.1.4: OpenEye Scientific Software, Santa Fe, NM.\n",
      "  http://www.eyesopen.com.\n",
      "\n",
      "  Hawkins, P.C.D.; Skillman, A.G.; Nicholls, A. Comparison of Shape-Matching\n",
      "  and Docking as Virtual Screening Tools. J. Med. Chem., 2007, 50, 74.\n",
      "\n",
      "Running as MPI Master\n",
      "  database file: tutorial-results/04_omega_confomers/partition_6.mol2\n",
      "\n",
      "Query being read from:         \ttk-tutorial_data/3kpzs_query.mol2\n",
      "File prefix is:                \ttutorial-results/05_rocs_overlays/partition_6\n",
      "Output directory:              \t/Users/sebastian/code/screenlamp/docs/sources/user_guide\n",
      "Log file will be written to: \ttutorial-results/05_rocs_overlays/partition_6.log\n",
      "Statistics will be written to:\ttutorial-results/05_rocs_overlays/partition_6_1.rpt\n",
      "Hit structures will written to:\ttutorial-results/05_rocs_overlays/partition_6_hits_1.mol2\n",
      "Status file will be written to:\ttutorial-results/05_rocs_overlays/partition_6_1.status\n",
      "\n",
      "Query(#1): 3KPZS has 35 conformer(s)\n",
      "Database 1 of 1:              \ttutorial-results/04_omega_confomers/partition_6.mol2\n",
      "...onfomers/partition_6.mol2|****************************************|100.00%\n",
      "\n",
      "20 molecules in 66 seconds -> 0.3 molecules/sec\n",
      "                              1821 overlays/sec\n",
      "\n",
      "20 hits found\n",
      "=================================================\n",
      "\n",
      "Molecule read failures: 0\n",
      "#warnings             : 0\n",
      "#errors               : 0\n",
      "#queries processed    : 1\n",
      "Processing partition_7.mol2\n",
      "Slave started on host Sebastians-MacBook-Pro\n",
      "Slave started on host Sebastians-MacBook-Pro\n",
      "Slave started on host Sebastians-MacBook-Pro\n",
      "          :jGf:               \n",
      "        :jGDDDDf:             \n",
      "      ,fDDDGjLDDDf,           'a8  ,a'8b   a''8b    a''8b  a8f'8\n",
      "    ,fDDLt:   :iLDDL;          88 a/  88  d'   8b  d'  88  88'  \n",
      "  ;fDLt:         :tfDG;        88P    8f d8    88 d8       '88aa\n",
      ",jft:   ,ijfffji,   :iff       8P        88    8P 88      a  '888\n",
      "     .jGDDDDDDDDDGt.           8i        88   d8  Y8   ,d 8    8P\n",
      "    ;GDDGt:''':tDDDG,          a8/        `88aa'    '8aa'  'baa8'\n",
      "   .DDDG:       :GDDG.    \n",
      "   ;DDDj         tDDDi    \n",
      "   ,DDDf         fDDD,         Copyright (C) 1997-2015\n",
      "    LDDDt.     .fDDDj          OpenEye Scientific Software, Inc.\n",
      "    .tDDDDfjtjfDDDGt      \n",
      "      :ifGDDDDDGfi.            Version: 3.2.1.4\n",
      "          .:::.                Built:   20150831\n",
      "  ......................       OEChem version: 2.0.4\n",
      "  DDDDDDDDDDDDDDDDDDDDDD       Platform: osx-10.10-clang++6-x64\n",
      "  DDDDDDDDDDDDDDDDDDDDDD  \n",
      "\n",
      "Supported run modes:\n",
      "  Single processor\n",
      "  MPI Multiprocessor\n",
      "\n",
      "  Licensed for the exclusive use of The Laboratory of Leslie Kuhn.\n",
      "  Licensed for use only in Michigan State University.\n",
      "  License expires on October 20, 2017.\n",
      "\n",
      "\n",
      "To cite ROCS please use the following:\n",
      "  ROCS 3.2.1.4: OpenEye Scientific Software, Santa Fe, NM.\n",
      "  http://www.eyesopen.com.\n",
      "\n",
      "  Hawkins, P.C.D.; Skillman, A.G.; Nicholls, A. Comparison of Shape-Matching\n",
      "  and Docking as Virtual Screening Tools. J. Med. Chem., 2007, 50, 74.\n",
      "\n",
      "Running as MPI Master\n",
      "  database file: tutorial-results/04_omega_confomers/partition_7.mol2\n",
      "\n",
      "Query being read from:         \ttk-tutorial_data/3kpzs_query.mol2\n",
      "File prefix is:                \ttutorial-results/05_rocs_overlays/partition_7\n",
      "Output directory:              \t/Users/sebastian/code/screenlamp/docs/sources/user_guide\n",
      "Log file will be written to: \ttutorial-results/05_rocs_overlays/partition_7.log\n",
      "Statistics will be written to:\ttutorial-results/05_rocs_overlays/partition_7_1.rpt\n",
      "Hit structures will written to:\ttutorial-results/05_rocs_overlays/partition_7_hits_1.mol2\n",
      "Status file will be written to:\ttutorial-results/05_rocs_overlays/partition_7_1.status\n",
      "\n",
      "Query(#1): 3KPZS has 35 conformer(s)\n",
      "Database 1 of 1:              \ttutorial-results/04_omega_confomers/partition_7.mol2\n"
     ]
    },
    {
     "name": "stdout",
     "output_type": "stream",
     "text": [
      "...onfomers/partition_7.mol2|****************************************|100.00%\n",
      "\n",
      "15 molecules in 40 seconds -> 0.4 molecules/sec\n",
      "                              2356 overlays/sec\n",
      "\n",
      "15 hits found\n",
      "=================================================\n",
      "\n",
      "Molecule read failures: 0\n",
      "#warnings             : 0\n",
      "#errors               : 0\n",
      "#queries processed    : 1\n"
     ]
    }
   ],
   "source": [
    "! python tools/run_rocs.py \\\n",
    "  --input tutorial-results/04_omega_confomers/ \\\n",
    "  --output tutorial-results/05_rocs_overlays/ \\\n",
    "  --query tk-tutorial_data/3kpzs_query.mol2 \\\n",
    "  --executable \"/Applications/ROCS 3.2.1.4.app/Contents/MacOS/rocs-3.2.1.4\" \\\n",
    "  --settings \"-rankby TanimotoCombo -maxhits 0 -besthits 0 -progress percent\" \\\n",
    "  --processes 0"
   ]
  },
  {
   "cell_type": "markdown",
   "metadata": {},
   "source": [
    "Although we had 19,041 database conformers, our conformer database only consists 107 unique structures (see \" Filtering Step 3 -- Distance between Functional Groups\"), so we expect ROCS to yield 107 best-overlay pairs, which we can check via the familiar `count_mol2.py` tool. \n",
    "\n",
    "\n",
    "<div class=\"alert alert-block alert-info\"> &#9888; Note that in your own analyses, the number of input structures to Omega and output overlays from ROCS is not always the same. Potential sources for this, which we observed, is either that Omega cannot parse certain input structures and/or ROCS sometimes includes duplicates in the results. </div>"
   ]
  },
  {
   "cell_type": "code",
   "execution_count": 10,
   "metadata": {},
   "outputs": [
    {
     "name": "stdout",
     "output_type": "stream",
     "text": [
      "partition_1_hits_1.mol2 : 16\r\n",
      "partition_2_hits_1.mol2 : 16\r\n",
      "partition_3_hits_1.mol2 : 13\r\n",
      "partition_4_hits_1.mol2 : 15\r\n",
      "partition_5_hits_1.mol2 : 12\r\n",
      "partition_6_hits_1.mol2 : 20\r\n",
      "partition_7_hits_1.mol2 : 15\r\n",
      "Total : 107\r\n"
     ]
    }
   ],
   "source": [
    "! python tools/count_mol2.py \\\n",
    "  --input tutorial-results/05_rocs_overlays/"
   ]
  },
  {
   "cell_type": "markdown",
   "metadata": {},
   "source": [
    "## Step 6 -- Sorting Molecular Overlays"
   ]
  },
  {
   "cell_type": "markdown",
   "metadata": {},
   "source": [
    "In this section, we are going to sort the pair-wise overlays be overlay score and select only those molecules that meet at certain similarity threshold before we continue with the functional group matching in \"[Step 7 -- Matching Functional Groups](Step 7 -- Matching Functional Groups)\"."
   ]
  },
  {
   "cell_type": "markdown",
   "metadata": {},
   "source": [
    "![](images/tools-tutorial-1/pipe-step-6.jpg)"
   ]
  },
  {
   "cell_type": "markdown",
   "metadata": {},
   "source": [
    "To make screenlamp's functional group matching procedure (\"[Step 7 -- Matching Functional Groups](Step 7 -- Matching Functional Groups)\") requires a general data input format to support a variety of overlay tools (other than ROCS). To bring the ROCS results into a more general format, we are going to use the `sort_rocs_mol2.py` utility tool provided in screenlamp."
   ]
  },
  {
   "cell_type": "markdown",
   "metadata": {},
   "source": [
    "Essentially, the `sort_rocs_mol2.py` tool will create a pair of `\\*_query.mol2` and `\\*_dbase.mol2` files that contain the same number of structures each based on the ROCS overlays. The `\\*_dbase.mol2` file contains the database molecule and the `\\*_query.mol2` contains the conformer of the reference molecule that corresponds to the best-matching database-reference pair. Besides, we use the `--sortby` parameter to sort the molecules by TanimotoCombo and ColorTanimoto score (in descending order, best matches come first) for visualization and remove bad overlays by setting minimum score thresholds based on the TanimotoCombo and ColorTanimoto similarity scores. The TanimotoCombo score measures the similarity between a pair of molecules based on the overall volumetric match (ShapeTanimoto) and the electrostatic similarity (ColorTanimoto). For more information about the different scoring metrics implemented in ROCS, please refer to the official ROCS documentation at https://www.eyesopen.com/rocs."
   ]
  },
  {
   "cell_type": "code",
   "execution_count": 2,
   "metadata": {},
   "outputs": [
    {
     "name": "stdout",
     "output_type": "stream",
     "text": [
      "Processing partition_1_hits_1.mol2 | scanned 12 molecules | 2039 mol/sec\n",
      "Processing partition_2_hits_1.mol2 | scanned 14 molecules | 5392 mol/sec\n",
      "Processing partition_3_hits_1.mol2 | scanned 11 molecules | 3583 mol/sec\n",
      "Processing partition_4_hits_1.mol2 | scanned 13 molecules | 5349 mol/sec\n",
      "Processing partition_5_hits_1.mol2 | scanned 11 molecules | 4619 mol/sec\n",
      "Processing partition_6_hits_1.mol2 | scanned 19 molecules | 4531 mol/sec\n",
      "Processing partition_7_hits_1.mol2 | scanned 13 molecules | 5286 mol/sec\n"
     ]
    }
   ],
   "source": [
    "! python tools/sort_rocs_mol2.py \\\n",
    "  --input tutorial-results/05_rocs_overlays/ \\\n",
    "  --query tk-tutorial_data/3kpzs_query.mol2 \\\n",
    "  --output tutorial-results/06_rocs_overlays_sorted \\\n",
    "  --sortby TanimotoCombo,ColorTanimoto \\\n",
    "  --selection \"(TanimotoCombo >= 0.75) & (ColorTanimoto >= 0.1)\"\\\n",
    "  --id_suffix True"
   ]
  },
  {
   "cell_type": "markdown",
   "metadata": {},
   "source": [
    "---\n",
    "\n",
    "**Note about the id_suffix parameter**\n",
    "\n",
    "Note that if `--id_suffix True`, a molecule ID suffix will be added to the query molecules in the order the ROCS query molecules appear in a multi-conformer query file. For instance, if all query molecules are labeled \"3kPZS\", then the same structures in the output file are labeled 3kPZS_1, 3kPZS_2, and so on. Note that those modified conformer will correspond to the conformer names in the ROCS report tables. However, they may appear in an unsorted order in the _query files, which are sorted by the overlay score of the database molecules. For example, if the database molecule is called ZINC123_112, first entry in the _query file that corresponds to *_dbase file may by labeled 3kPZS_11 if the 11th 3kPZS conformer is the best match according to ROCS.\n",
    "\n",
    "---"
   ]
  },
  {
   "cell_type": "markdown",
   "metadata": {},
   "source": [
    "After using the `sort_rocs_mol2.py` utility script, we have a new directory that contains pairs of `*_dbase.mol2` and `*_query.mol2` conformers from the ROCS overlays:"
   ]
  },
  {
   "cell_type": "code",
   "execution_count": 3,
   "metadata": {},
   "outputs": [
    {
     "name": "stdout",
     "output_type": "stream",
     "text": [
      "partition_1_hits_1_dbase.mol2 : 11\n",
      "partition_1_hits_1_query.mol2 : 11\n",
      "partition_2_hits_1_dbase.mol2 : 13\n",
      "partition_2_hits_1_query.mol2 : 13\n",
      "partition_3_hits_1_dbase.mol2 : 10\n",
      "partition_3_hits_1_query.mol2 : 10\n",
      "partition_4_hits_1_dbase.mol2 : 12\n",
      "partition_4_hits_1_query.mol2 : 12\n",
      "partition_5_hits_1_dbase.mol2 : 10\n",
      "partition_5_hits_1_query.mol2 : 10\n",
      "partition_6_hits_1_dbase.mol2 : 18\n",
      "partition_6_hits_1_query.mol2 : 18\n",
      "partition_7_hits_1_dbase.mol2 : 12\n",
      "partition_7_hits_1_query.mol2 : 12\n",
      "Total : 172\n"
     ]
    }
   ],
   "source": [
    "! python tools/count_mol2.py \\\n",
    "  --input tutorial-results/06_rocs_overlays_sorted"
   ]
  },
  {
   "cell_type": "markdown",
   "metadata": {},
   "source": [
    "## Step 7 -- Matching Functional Groups"
   ]
  },
  {
   "cell_type": "markdown",
   "metadata": {},
   "source": [
    "Now that we have generated the multi-mol2 file pairs of the pair-wise overlays ('\\*_query.mol2', and '\\*_dbase.mol2') in \"[Step 6 -- Sorting Molecular Overlays](#Step-6----Sorting-Molecular-Overlays),\" we can proceed with the tabulation of functional group matches."
   ]
  },
  {
   "cell_type": "markdown",
   "metadata": {},
   "source": [
    "![](images/tools-tutorial-1/pipe-step-7.jpg)"
   ]
  },
  {
   "cell_type": "markdown",
   "metadata": {},
   "source": [
    "---\n",
    "\n",
    "\n",
    "<div class=\"alert alert-block alert-info\"> &#9888;\n",
    "**Note about file suffixes.**\n",
    "\n",
    "If you created molecular overlays using a different protocol than the one described in this tutorial please make sure that the file layout and the naming convention match the ones described in \"Step 6 -- Sorting Molecular Overlays.\" In particular, it is important that the database molecule MOL2 files have the following file endings:\n",
    "\n",
    "- _dbase.mol2 / _dbase.mol2.gz \n",
    "\n",
    "and the query molecules should end in \n",
    "\n",
    "- _query.mol2 / _query.mol2.gz \n",
    "\n",
    "Everything in front of the underscore character can be arbitrary but must also be consistent between \"query\" and \"dbase\" pairs, as shown in \"Step 6 -- Sorting Molecular Overlays\" and in the file listing below:\n",
    "\n",
    "</div>\n",
    "\n",
    "---"
   ]
  },
  {
   "cell_type": "code",
   "execution_count": 4,
   "metadata": {},
   "outputs": [
    {
     "name": "stdout",
     "output_type": "stream",
     "text": [
      "partition_1_hits_1_dbase.mol2\r\n",
      "partition_1_hits_1_query.mol2\r\n",
      "partition_2_hits_1_dbase.mol2\r\n",
      "partition_2_hits_1_query.mol2\r\n",
      "partition_3_hits_1_dbase.mol2\r\n",
      "partition_3_hits_1_query.mol2\r\n",
      "partition_4_hits_1_dbase.mol2\r\n",
      "partition_4_hits_1_query.mol2\r\n",
      "partition_5_hits_1_dbase.mol2\r\n",
      "partition_5_hits_1_query.mol2\r\n",
      "partition_6_hits_1_dbase.mol2\r\n",
      "partition_6_hits_1_query.mol2\r\n",
      "partition_7_hits_1_dbase.mol2\r\n",
      "partition_7_hits_1_query.mol2\r\n"
     ]
    }
   ],
   "source": [
    "! ls -1 tutorial-results/06_rocs_overlays_sorted/"
   ]
  },
  {
   "cell_type": "markdown",
   "metadata": {},
   "source": [
    "For the functional group matching, we recommend using a threshold of 1.3 angstroms or less, since 1.5 angstrom constitutes the typical length of an atomic bond."
   ]
  },
  {
   "cell_type": "code",
   "execution_count": 5,
   "metadata": {},
   "outputs": [
    {
     "name": "stdout",
     "output_type": "stream",
     "text": [
      "Processing partition_1_hits_1_dbase.mol2/partition_1_hits_1_query.mol2 | scanned 12 molecules | 21 mol/sec\n",
      "Processing partition_2_hits_1_dbase.mol2/partition_2_hits_1_query.mol2 | scanned 14 molecules | 21 mol/sec\n",
      "Processing partition_3_hits_1_dbase.mol2/partition_3_hits_1_query.mol2 | scanned 11 molecules | 20 mol/sec\n",
      "Processing partition_4_hits_1_dbase.mol2/partition_4_hits_1_query.mol2 | scanned 13 molecules | 23 mol/sec\n",
      "Processing partition_5_hits_1_dbase.mol2/partition_5_hits_1_query.mol2 | scanned 11 molecules | 20 mol/sec\n",
      "Processing partition_6_hits_1_dbase.mol2/partition_6_hits_1_query.mol2 | scanned 19 molecules | 22 mol/sec\n",
      "Processing partition_7_hits_1_dbase.mol2/partition_7_hits_1_query.mol2 | scanned 13 molecules | 23 mol/sec\n"
     ]
    }
   ],
   "source": [
    "! python tools/funcgroup_matching.py \\\n",
    "  --input tutorial-results/06_rocs_overlays_sorted \\\n",
    "  --output tutorial-results/07_funcgroup_matching \\\n",
    "  --max_distance 1.3 \\\n",
    "  --processes 0"
   ]
  },
  {
   "cell_type": "markdown",
   "metadata": {},
   "source": [
    "The functional group matching results are collected in tabular form as regular text (.tsv) files with tab-separated columns. "
   ]
  },
  {
   "cell_type": "code",
   "execution_count": 6,
   "metadata": {},
   "outputs": [
    {
     "name": "stdout",
     "output_type": "stream",
     "text": [
      "partition_1_hits_1_atomtype.tsv\r\n",
      "partition_1_hits_1_charge.tsv\r\n",
      "partition_2_hits_1_atomtype.tsv\r\n",
      "partition_2_hits_1_charge.tsv\r\n",
      "partition_3_hits_1_atomtype.tsv\r\n",
      "partition_3_hits_1_charge.tsv\r\n",
      "partition_4_hits_1_atomtype.tsv\r\n",
      "partition_4_hits_1_charge.tsv\r\n",
      "partition_5_hits_1_atomtype.tsv\r\n",
      "partition_5_hits_1_charge.tsv\r\n",
      "partition_6_hits_1_atomtype.tsv\r\n",
      "partition_6_hits_1_charge.tsv\r\n",
      "partition_7_hits_1_atomtype.tsv\r\n",
      "partition_7_hits_1_charge.tsv\r\n"
     ]
    }
   ],
   "source": [
    "! ls -1 tutorial-results/07_funcgroup_matching"
   ]
  },
  {
   "cell_type": "markdown",
   "metadata": {},
   "source": [
    "As we can see from the file listing above, the functional group matching tool generated two tables for each partition. For instance, the functional group matching tables that correspond to partition_1 are\n",
    "\n",
    "- partition_1_hits_1_atomtype.tsv\n",
    "- partition_1_hits_1_charge.tsv\n",
    "\n",
    "Below is an example of how a subsection of partition_1_hits_1_atomtype.tsv would look like if we would open it in a spreadsheet viewer (for example, LibreOffice Calc) for illustration:"
   ]
  },
  {
   "cell_type": "markdown",
   "metadata": {},
   "source": [
    "![](images/tools-tutorial-1/atomtype-match-ex-1.png)"
   ]
  },
  {
   "cell_type": "markdown",
   "metadata": {},
   "source": [
    "Note that the table screenshot above only shows the first six columns of the file. \n",
    "\n",
    "- The first column, dbase, refers to the database molecule's name\n",
    "- The second column lists the corresponding reference molecule.\n",
    "- The column headers after the second column correspond to the atom names of the reference (or query) molecule.\n",
    "\n",
    "For instance, the first cell below the column header C1, which contains the entry \"O.2\" (shown in the annotated screenshot below):"
   ]
  },
  {
   "cell_type": "markdown",
   "metadata": {},
   "source": [
    "![](images/tools-tutorial-1/atomtype-match-ex-2.png)"
   ]
  },
  {
   "cell_type": "markdown",
   "metadata": {},
   "source": [
    "Lists the MOL2 atom type of the atom in the database molecule ZINC90224566_8 that overlays (or \"matches\") with the C1 atom in 3KPZS_22. Similarly, we can see that no atom in ZINC90224566_8 matches the C2 atom of 3KPZS_22, and an S.o2 atom matches the C3 atom of 3KPZS_22. \n",
    "\n",
    "To illustrate how to read this table more visually, we can open the corresponding MOL2 files for partition_1 in PyMOL:"
   ]
  },
  {
   "cell_type": "markdown",
   "metadata": {},
   "source": [
    "![](images/tools-tutorial-1/pymol-overlay-ex-2.png)"
   ]
  },
  {
   "cell_type": "markdown",
   "metadata": {},
   "source": [
    "Shown below is a screenshot of a PyMOL session showing the 3D structure overlay of ZINC90224566_8 and 3KPZS_22. The red arrows highlight the three columns that were discussed in the previous paragraph (ZINC90224566_8 is shown in green and 3KPZS_22 is shown in cyan):"
   ]
  },
  {
   "cell_type": "markdown",
   "metadata": {},
   "source": [
    "![](images/tools-tutorial-1/pymol-overlay-ex-1.png)"
   ]
  },
  {
   "cell_type": "markdown",
   "metadata": {},
   "source": [
    "In addition to the atom type matching table, the functional group matching tool also outputs a second table for each partition analyzed. The format of this second table is identical to the atom type matching table except that its cells contain the partial charge information of the matching atom:"
   ]
  },
  {
   "cell_type": "markdown",
   "metadata": {},
   "source": [
    "![](images/tools-tutorial-1/charge-match-ex-1.png)"
   ]
  },
  {
   "cell_type": "markdown",
   "metadata": {},
   "source": [
    "Note that the cells containing \"nan\" (which stands for \"not a number\") correspond to the empty cells in the atom type matching table we saw previously. Or in other words, \"nan\" cells indicate that no atom in the database molecule is matching a particular atom in the query molecule.\n",
    "\n",
    "\n",
    "In the next step, \"Step 8 -- Selecting Functional Group Matches,\" we will select database molecules of interest by specific functional group matching patterns or criteria."
   ]
  },
  {
   "cell_type": "markdown",
   "metadata": {},
   "source": [
    "## Step 8 -- Selecting Functional Group Matches"
   ]
  },
  {
   "cell_type": "markdown",
   "metadata": {},
   "source": [
    "In this section, we are going to use the functional group matching tables we created in \"[Step 7 -- Matching Functional Groups](#Step 7 -- Matching Functional Groups)\". "
   ]
  },
  {
   "cell_type": "markdown",
   "metadata": {},
   "source": [
    "![](images/tools-tutorial-1/pipe-step-8.jpg)"
   ]
  },
  {
   "cell_type": "markdown",
   "metadata": {},
   "source": [
    "The `funcgroup_matching_selection.py` tool operates on the functional group matching tables that we created in the previous section, \"Step 7 -- Matching Functional Groups.\" To select molecules of interest, we can define two selection strings:\n",
    "\n",
    "1. `--atomtype_selection`, which operates on the MOL2 atom types stored in the \\*_atomtype.tsv files  \n",
    "2. `--charge_selection`, which operates on the partial charges stored in the \\*_charge.tsv files"
   ]
  },
  {
   "cell_type": "markdown",
   "metadata": {},
   "source": [
    "The selection strings work similar to the selection strings that were explained in Filtering \"[Step 2 -- Presence and Absence of Functional Groups](#Step-2----Presence-and-Absence-of-Functional-Groups).\" In the following example, we are going to select those molecules that\n",
    "\n",
    "1. Have a sp3 sulfur match with the S1 atom in the reference molecule; the matched atom has to be positively charged\n",
    "2. An sp2 oxygen match with the O2 atom in the reference molecule; the matched atom has to have a charge"
   ]
  },
  {
   "cell_type": "markdown",
   "metadata": {},
   "source": [
    "For reference, these atoms or functional groups are highlighted in the 3kPZS reference molecule shown in the screenshot below:"
   ]
  },
  {
   "cell_type": "markdown",
   "metadata": {},
   "source": [
    "![](images/tools-tutorial-1/3kpzs-keto-sulfur.png)"
   ]
  },
  {
   "cell_type": "markdown",
   "metadata": {},
   "source": [
    "Using the selection criteria discussed above, that is, selecting molecules that match the 3-keto and the sulfate-group sulfur in 3kPZS, we use `tools/funcgroup_matching_selection.py` as shown below:"
   ]
  },
  {
   "cell_type": "code",
   "execution_count": 4,
   "metadata": {},
   "outputs": [
    {
     "name": "stdout",
     "output_type": "stream",
     "text": [
      "Processing partition_1_hits_1_atomtype.tsv/partition_1_hits_1_charge.tsv | scanned 11 molecules | 140 mol/sec\n",
      "Processing partition_2_hits_1_atomtype.tsv/partition_2_hits_1_charge.tsv | scanned 13 molecules | 407 mol/sec\n",
      "Processing partition_3_hits_1_atomtype.tsv/partition_3_hits_1_charge.tsv | scanned 10 molecules | 354 mol/sec\n",
      "Processing partition_4_hits_1_atomtype.tsv/partition_4_hits_1_charge.tsv | scanned 12 molecules | 379 mol/sec\n",
      "Processing partition_5_hits_1_atomtype.tsv/partition_5_hits_1_charge.tsv | scanned 10 molecules | 361 mol/sec\n",
      "Processing partition_6_hits_1_atomtype.tsv/partition_6_hits_1_charge.tsv | scanned 18 molecules | 577 mol/sec\n",
      "Processing partition_7_hits_1_atomtype.tsv/partition_7_hits_1_charge.tsv | scanned 12 molecules | 411 mol/sec\n"
     ]
    }
   ],
   "source": [
    "! python tools/funcgroup_matching_selection.py \\\n",
    "  --input tutorial-results/07_funcgroup_matching \\\n",
    "  --output tutorial-results/08_funcgroup_selection \\\n",
    "  --atomtype_selection \"((S1 == 'S.3') | (S1 == 'S.o2')) --> (O2 == 'O.2')\" \\\n",
    "  --charge_selection \"((S1 >= 1.0)) --> (O2 <= -0.5)\""
   ]
  },
  {
   "cell_type": "markdown",
   "metadata": {},
   "source": [
    "The output of this command will generate new \\*_atomtype.tsv and \\*_charge.tsv tables that only contain the matching molecules. However, it is often useful to collect the corresponding structures in MOL2 files, in sorted order, for inspection. To generate those MOL2 files, that contain the structures corresponding to the output tables, we can provide the overlays from \"Step 6 -- Sorting Molecular Overlays\" (06_rocs_overlays_sorted) as an argument to the `--input_mol2` parameters:"
   ]
  },
  {
   "cell_type": "code",
   "execution_count": 5,
   "metadata": {},
   "outputs": [
    {
     "name": "stdout",
     "output_type": "stream",
     "text": [
      "Processing partition_1_hits_1_atomtype.tsv/partition_1_hits_1_charge.tsv | scanned 11 molecules | 96 mol/sec\n",
      "Processing partition_2_hits_1_atomtype.tsv/partition_2_hits_1_charge.tsv | scanned 13 molecules | 333 mol/sec\n",
      "Processing partition_3_hits_1_atomtype.tsv/partition_3_hits_1_charge.tsv | scanned 10 molecules | 228 mol/sec\n",
      "Processing partition_4_hits_1_atomtype.tsv/partition_4_hits_1_charge.tsv | scanned 12 molecules | 234 mol/sec\n",
      "Processing partition_5_hits_1_atomtype.tsv/partition_5_hits_1_charge.tsv | scanned 10 molecules | 253 mol/sec\n",
      "Processing partition_6_hits_1_atomtype.tsv/partition_6_hits_1_charge.tsv | scanned 18 molecules | 457 mol/sec\n",
      "Processing partition_7_hits_1_atomtype.tsv/partition_7_hits_1_charge.tsv | scanned 12 molecules | 275 mol/sec\n"
     ]
    }
   ],
   "source": [
    "! python tools/funcgroup_matching_selection.py \\\n",
    "  --input tutorial-results/07_funcgroup_matching \\\n",
    "  --input_mol2 tutorial-results/06_rocs_overlays_sorted \\\n",
    "  --output tutorial-results/08_funcgroup_selection \\\n",
    "  --atomtype_selection \"((S1 == 'S.3') | (S1 == 'S.o2')) --> (O2 == 'O.2')\" \\\n",
    "  --charge_selection \"((S1 >= 1.0)) --> (O2 <= -0.5)\""
   ]
  },
  {
   "cell_type": "markdown",
   "metadata": {},
   "source": [
    "Now, let's have a look at one of the overlayed database molecule-reference molecule pairs from the functional group match selection:"
   ]
  },
  {
   "cell_type": "markdown",
   "metadata": {},
   "source": [
    "![](images/tools-tutorial-1/open-fgroup-match-overlays.png)"
   ]
  },
  {
   "cell_type": "markdown",
   "metadata": {},
   "source": [
    "For illustration, the numbers 0.6 and 0.9 correspond to the distance between the matched oxygen and sulfur atoms, respectively:"
   ]
  },
  {
   "cell_type": "markdown",
   "metadata": {},
   "source": [
    "![](images/tools-tutorial-1/fgroup-match-overlays-pymol.png)"
   ]
  },
  {
   "cell_type": "markdown",
   "metadata": {},
   "source": [
    "## Conclusion"
   ]
  },
  {
   "cell_type": "markdown",
   "metadata": {},
   "source": [
    "While this tutorial provides a brief hands-on explanation of the different tools within screenlamp, and how to use them in concert, a real-world application would typically include millions of small molecules instead of the very small subset that we used in this tutorial. Also, the hypothesis-based selection (for instance, that matching the 3-keto and sulfate-sulfur in 3kPZS) is highly project-specific. To read more about this hypothesis-based selection approach, beyond this purely technical tutorial, please see our research publication ['Raschka, Sebastian, Anne M. Scott, Nan Liu, Santosh Gunturu, Mar Huertas, Weiming Li, and Leslie A. Kuhn (2017). \"Enabling the hypothesis-driven prioritization of small molecules in large databases: Screenlamp and its application to GPCR inhibitor discovery\"'](../cite)"
   ]
  },
  {
   "cell_type": "markdown",
   "metadata": {},
   "source": [
    "## Where to Go Next: Using and Building Pipelines for Automation"
   ]
  },
  {
   "cell_type": "markdown",
   "metadata": {},
   "source": [
    "Now that this tutorial introduced you to the individual tools within screenlamp, it is straightforward to build pipelines that execute the individual steps automatically. For instance, a pipeline that automates the 8 steps we worked through in this tutorial is provided as [tools/pipelines/pipeline-example-1.py](https://github.com/rasbt/screenlamp/blob/master/tools/pipelines/pipeline-example-1.py).\n",
    "\n",
    "Essentially, this pipeline provides a more convenient way to interact with screenlamp in the way it was described in this tutorial:\n",
    "\n",
    "1. Select molecules based on database properties.\n",
    "2. Select molecules by the presence of particular functional groups.\n",
    "3. Select molecules by the distance between certain functional groups.\n",
    "4. Generate multiple favorable-energy conformers of each selected molecule.\n",
    "5. Overlay the conformers of the reference and database molecules\n",
    "6. Post process (sort) the overlay results and select molecules using similarity thresholds\n",
    "7. Generate functional group matching tables\n",
    "8. Select molecules based on functional group matching patterns\n",
    "\n",
    "(You may use this pipeline as a template and modify it if you like to add additional steps or like to remove certain steps).\n",
    "\n",
    "By default, this pipeline uses the selection parameters used in this tutorial via the corresponding configuration file ([tools/pipelines/pipeline-example-1-config.yaml](https://github.com/rasbt/screenlamp/blob/master/tools/pipelines/pipeline-example-1-config.yaml)). Since the reference molecule in your own project is likely a different one than the one we used in this tutorial, the configuration file offers a user-friendly way to tailor the analysis to your needs. \n",
    "\n",
    "For more information about this pipeline, please also see the more detailed [\"Tutorial on Using a Pre-constructed Screenlamp Pipeline\"](pipeline-tutorial-1)."
   ]
  },
  {
   "cell_type": "code",
   "execution_count": null,
   "metadata": {
    "collapsed": true
   },
   "outputs": [],
   "source": []
  }
 ],
 "metadata": {
  "kernelspec": {
   "display_name": "Python 3",
   "language": "python",
   "name": "python3"
  },
  "language_info": {
   "codemirror_mode": {
    "name": "ipython",
    "version": 3
   },
   "file_extension": ".py",
   "mimetype": "text/x-python",
   "name": "python",
   "nbconvert_exporter": "python",
   "pygments_lexer": "ipython3",
   "version": "3.6.1"
  }
 },
 "nbformat": 4,
 "nbformat_minor": 2
}
